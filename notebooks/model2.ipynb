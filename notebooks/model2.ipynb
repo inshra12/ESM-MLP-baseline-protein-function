{
  "nbformat": 4,
  "nbformat_minor": 0,
  "metadata": {
    "colab": {
      "provenance": [],
      "authorship_tag": "ABX9TyMu4z9En+T+9bIDc8Uj2qOf",
      "include_colab_link": true
    },
    "kernelspec": {
      "name": "python3",
      "display_name": "Python 3"
    },
    "language_info": {
      "name": "python"
    }
  },
  "cells": [
    {
      "cell_type": "markdown",
      "metadata": {
        "id": "view-in-github",
        "colab_type": "text"
      },
      "source": [
        "<a href=\"https://colab.research.google.com/github/inshra12/ESM-MLP-baseline-protein-function/blob/main/notebooks/model2.ipynb\" target=\"_parent\"><img src=\"https://colab.research.google.com/assets/colab-badge.svg\" alt=\"Open In Colab\"/></a>"
      ]
    },
    {
      "cell_type": "code",
      "execution_count": 3,
      "metadata": {
        "colab": {
          "base_uri": "https://localhost:8080/"
        },
        "id": "hvYWH_BWL9us",
        "outputId": "56c8f932-6cdc-4f64-8f4c-0c5724be873e"
      },
      "outputs": [
        {
          "output_type": "stream",
          "name": "stdout",
          "text": [
            "Collecting biopython\n",
            "  Downloading biopython-1.85-cp311-cp311-manylinux_2_17_x86_64.manylinux2014_x86_64.whl.metadata (13 kB)\n",
            "Requirement already satisfied: scipy in /usr/local/lib/python3.11/dist-packages (1.16.1)\n",
            "Requirement already satisfied: scikit-learn in /usr/local/lib/python3.11/dist-packages (1.6.1)\n",
            "Collecting fair-esm\n",
            "  Downloading fair_esm-2.0.0-py3-none-any.whl.metadata (37 kB)\n",
            "Requirement already satisfied: tqdm in /usr/local/lib/python3.11/dist-packages (4.67.1)\n",
            "Requirement already satisfied: numpy in /usr/local/lib/python3.11/dist-packages (from biopython) (2.0.2)\n",
            "Requirement already satisfied: joblib>=1.2.0 in /usr/local/lib/python3.11/dist-packages (from scikit-learn) (1.5.1)\n",
            "Requirement already satisfied: threadpoolctl>=3.1.0 in /usr/local/lib/python3.11/dist-packages (from scikit-learn) (3.6.0)\n",
            "Downloading biopython-1.85-cp311-cp311-manylinux_2_17_x86_64.manylinux2014_x86_64.whl (3.3 MB)\n",
            "\u001b[2K   \u001b[90m━━━━━━━━━━━━━━━━━━━━━━━━━━━━━━━━━━━━━━━━\u001b[0m \u001b[32m3.3/3.3 MB\u001b[0m \u001b[31m54.5 MB/s\u001b[0m eta \u001b[36m0:00:00\u001b[0m\n",
            "\u001b[?25hDownloading fair_esm-2.0.0-py3-none-any.whl (93 kB)\n",
            "\u001b[2K   \u001b[90m━━━━━━━━━━━━━━━━━━━━━━━━━━━━━━━━━━━━━━━━\u001b[0m \u001b[32m93.1/93.1 kB\u001b[0m \u001b[31m3.4 MB/s\u001b[0m eta \u001b[36m0:00:00\u001b[0m\n",
            "\u001b[?25hInstalling collected packages: fair-esm, biopython\n",
            "Successfully installed biopython-1.85 fair-esm-2.0.0\n"
          ]
        }
      ],
      "source": [
        "# Colab cell (code)\n",
        "!pip install biopython scipy scikit-learn fair-esm tqdm\n"
      ]
    },
    {
      "cell_type": "code",
      "source": [
        "# If you uploaded alphafold_pdb directly to Colab VM, set:\n",
        "PDB_DIR = \"/content/alphafold_pdb\""
      ],
      "metadata": {
        "id": "i1jva5Ukja6c"
      },
      "execution_count": 4,
      "outputs": []
    },
    {
      "cell_type": "code",
      "source": [
        "# Paths to your existing files (update if located in Drive)\n",
        "CLS_EMBEDDINGS = \"/content/cls_embeddings.csv\"          # ESM CLS embeddings (ID + 1280 cols)\n",
        "LABELS_CSV      = \"/content/esm_with_multihot_labels.csv\"  # multi-hot labels (ID + GO cols)"
      ],
      "metadata": {
        "id": "xZIXMtBQjteW"
      },
      "execution_count": 5,
      "outputs": []
    },
    {
      "cell_type": "code",
      "source": [
        "STATIC_OUT      = \"/content/static_features.csv\""
      ],
      "metadata": {
        "id": "9PZxQRgAkfyT"
      },
      "execution_count": 8,
      "outputs": []
    },
    {
      "cell_type": "code",
      "source": [
        "from structure_embedding import extract_embeddings_from_folder"
      ],
      "metadata": {
        "id": "rOsyL1WFkS_-"
      },
      "execution_count": 6,
      "outputs": []
    },
    {
      "cell_type": "code",
      "source": [
        "pdb_dir = PDB_DIR\n",
        "out_csv = STATIC_OUT\n",
        "extract_embeddings_from_folder(pdb_dir, output_csv=out_csv, hist_bins=10, contact_cutoff=8.0)\n",
        "\n"
      ],
      "metadata": {
        "colab": {
          "base_uri": "https://localhost:8080/",
          "height": 1000
        },
        "id": "B967BnADW6cW",
        "outputId": "6bf43400-b083-4b7a-e80b-a8e7996f983f"
      },
      "execution_count": 9,
      "outputs": [
        {
          "output_type": "stream",
          "name": "stdout",
          "text": [
            "✅ O00222 -> features len 18\n",
            "✅ O14842 -> features len 18\n",
            "✅ O15303 -> features len 18\n",
            "✅ O43603 -> features len 18\n",
            "✅ O43613 -> features len 18\n",
            "✅ O43614 -> features len 18\n",
            "✅ O60353 -> features len 18\n",
            "✅ O60755 -> features len 18\n",
            "✅ O70526 -> features len 18\n",
            "✅ O70528 -> features len 18\n",
            "✅ O75084 -> features len 18\n",
            "✅ O75899 -> features len 18\n",
            "✅ O95136 -> features len 18\n",
            "✅ O95665 -> features len 18\n",
            "✅ O95977 -> features len 18\n",
            "✅ P01019 -> features len 18\n",
            "✅ P01275 -> features len 18\n",
            "✅ P02699 -> features len 18\n",
            "✅ P05305 -> features len 18\n",
            "✅ P06199 -> features len 18\n",
            "✅ P07550 -> features len 18\n",
            "✅ P07700 -> features len 18\n",
            "✅ P08172 -> features len 18\n",
            "✅ P08173 -> features len 18\n",
            "✅ P08482 -> features len 18\n",
            "✅ P08483 -> features len 18\n",
            "✅ P08485 -> features len 18\n",
            "✅ P08588 -> features len 18\n",
            "✅ P08908 -> features len 18\n",
            "✅ P08909 -> features len 18\n",
            "✅ P08911 -> features len 18\n",
            "✅ P08912 -> features len 18\n",
            "✅ P08913 -> features len 18\n",
            "✅ P0DMS8 -> features len 18\n",
            "✅ P10980 -> features len 18\n",
            "✅ P11229 -> features len 18\n",
            "✅ P13208 -> features len 18\n",
            "✅ P13501 -> features len 18\n",
            "✅ P13945 -> features len 18\n",
            "✅ P14138 -> features len 18\n",
            "✅ P14416 -> features len 18\n",
            "✅ P14600 -> features len 18\n",
            "✅ P14842 -> features len 18\n",
            "✅ P16177 -> features len 18\n",
            "✅ P16615 -> features len 18\n",
            "✅ P18089 -> features len 18\n",
            "✅ P18090 -> features len 18\n",
            "✅ P18825 -> features len 18\n",
            "✅ P18901 -> features len 18\n",
            "✅ P19020 -> features len 18\n",
            "✅ P19327 -> features len 18\n",
            "✅ P20068 -> features len 18\n",
            "✅ P20272 -> features len 18\n",
            "✅ P20288 -> features len 18\n",
            "✅ P20309 -> features len 18\n",
            "✅ P20789 -> features len 18\n",
            "✅ P21451 -> features len 18\n",
            "✅ P21452 -> features len 18\n",
            "✅ P21453 -> features len 18\n",
            "✅ P21462 -> features len 18\n",
            "✅ P21554 -> features len 18\n",
            "✅ P21728 -> features len 18\n",
            "✅ P21730 -> features len 18\n",
            "✅ P21731 -> features len 18\n",
            "✅ P21761 -> features len 18\n",
            "✅ P21917 -> features len 18\n",
            "✅ P23385 -> features len 18\n",
            "✅ P23944 -> features len 18\n",
            "✅ P24530 -> features len 18\n",
            "✅ P25023 -> features len 18\n",
            "✅ P25025 -> features len 18\n",
            "✅ P25090 -> features len 18\n",
            "✅ P25099 -> features len 18\n",
            "✅ P25101 -> features len 18\n",
            "✅ P25102 -> features len 18\n",
            "✅ P25103 -> features len 18\n",
            "✅ P25104 -> features len 18\n",
            "✅ P25105 -> features len 18\n",
            "✅ P25116 -> features len 18\n",
            "✅ P25929 -> features len 18\n",
            "✅ P26255 -> features len 18\n",
            "✅ P26684 -> features len 18\n",
            "✅ P28190 -> features len 18\n",
            "✅ P28221 -> features len 18\n",
            "✅ P28222 -> features len 18\n",
            "✅ P28223 -> features len 18\n",
            "✅ P28335 -> features len 18\n",
            "✅ P28566 -> features len 18\n",
            "✅ P28646 -> features len 18\n",
            "✅ P29274 -> features len 18\n",
            "✅ P29275 -> features len 18\n",
            "✅ P29276 -> features len 18\n",
            "✅ P29371 -> features len 18\n",
            "✅ P30082 -> features len 18\n",
            "✅ P30411 -> features len 18\n",
            "✅ P30518 -> features len 18\n",
            "✅ P30542 -> features len 18\n",
            "✅ P30543 -> features len 18\n",
            "✅ P30547 -> features len 18\n",
            "✅ P30551 -> features len 18\n",
            "✅ P30553 -> features len 18\n",
            "✅ P30556 -> features len 18\n",
            "✅ P30559 -> features len 18\n",
            "✅ P30680 -> features len 18\n",
            "✅ P30872 -> features len 18\n",
            "✅ P30874 -> features len 18\n",
            "✅ P30968 -> features len 18\n",
            "✅ P30969 -> features len 18\n",
            "✅ P30987 -> features len 18\n",
            "✅ P30989 -> features len 18\n",
            "✅ P31356 -> features len 18\n",
            "✅ P31389 -> features len 18\n",
            "✅ P31390 -> features len 18\n",
            "✅ P31391 -> features len 18\n",
            "✅ P31421 -> features len 18\n",
            "✅ P31424 -> features len 18\n",
            "✅ P32238 -> features len 18\n",
            "✅ P32239 -> features len 18\n",
            "✅ P32245 -> features len 18\n",
            "✅ P32246 -> features len 18\n",
            "✅ P32249 -> features len 18\n",
            "✅ P32300 -> features len 18\n",
            "✅ P32307 -> features len 18\n",
            "✅ P32745 -> features len 18\n",
            "✅ P33032 -> features len 18\n",
            "✅ P33033 -> features len 18\n",
            "✅ P33533 -> features len 18\n",
            "✅ P33534 -> features len 18\n",
            "✅ P34969 -> features len 18\n",
            "✅ P34972 -> features len 18\n",
            "✅ P34975 -> features len 18\n",
            "✅ P34976 -> features len 18\n",
            "✅ P34978 -> features len 18\n",
            "✅ P34995 -> features len 18\n",
            "✅ P34998 -> features len 18\n",
            "✅ P35346 -> features len 18\n",
            "✅ P35348 -> features len 18\n",
            "✅ P35351 -> features len 18\n",
            "✅ P35353 -> features len 18\n",
            "✅ P35367 -> features len 18\n",
            "✅ P35368 -> features len 18\n",
            "✅ P35370 -> features len 18\n",
            "✅ P35372 -> features len 18\n",
            "✅ P35375 -> features len 18\n",
            "✅ P35462 -> features len 18\n",
            "✅ P37288 -> features len 18\n",
            "✅ P41143 -> features len 18\n",
            "✅ P41144 -> features len 18\n",
            "✅ P41145 -> features len 18\n",
            "✅ P41146 -> features len 18\n",
            "✅ P41149 -> features len 18\n",
            "✅ P41180 -> features len 18\n",
            "✅ P41586 -> features len 18\n",
            "✅ P41594 -> features len 18\n",
            "✅ P41595 -> features len 18\n",
            "✅ P41597 -> features len 18\n",
            "✅ P41968 -> features len 18\n",
            "✅ P42866 -> features len 18\n",
            "✅ P43088 -> features len 18\n",
            "✅ P43115 -> features len 18\n",
            "✅ P43116 -> features len 18\n",
            "✅ P43119 -> features len 18\n",
            "✅ P43140 -> features len 18\n",
            "✅ P43220 -> features len 18\n",
            "✅ P46663 -> features len 18\n",
            "✅ P47211 -> features len 18\n",
            "✅ P47747 -> features len 18\n",
            "✅ P47748 -> features len 18\n",
            "✅ P47871 -> features len 18\n",
            "✅ P47900 -> features len 18\n",
            "✅ P47901 -> features len 18\n",
            "✅ P48039 -> features len 18\n",
            "✅ P48044 -> features len 18\n",
            "✅ P49146 -> features len 18\n",
            "✅ P49286 -> features len 18\n",
            "✅ P49652 -> features len 18\n",
            "✅ P49682 -> features len 18\n",
            "✅ P49684 -> features len 18\n",
            "✅ P50052 -> features len 18\n",
            "✅ P50129 -> features len 18\n",
            "✅ P50391 -> features len 18\n",
            "✅ P51144 -> features len 18\n",
            "✅ P51677 -> features len 18\n",
            "✅ P51679 -> features len 18\n",
            "✅ P51681 -> features len 18\n",
            "✅ P54833 -> features len 18\n",
            "✅ P55085 -> features len 18\n",
            "✅ P56450 -> features len 18\n",
            "✅ P58406 -> features len 18\n",
            "✅ P61073 -> features len 18\n",
            "✅ P61169 -> features len 18\n",
            "✅ P62871 -> features len 18\n",
            "✅ P63092 -> features len 18\n",
            "✅ P63212 -> features len 18\n",
            "✅ P69332 -> features len 18\n",
            "✅ P70536 -> features len 18\n",
            "✅ P78423 -> features len 18\n",
            "✅ P79218 -> features len 18\n",
            "✅ P79350 -> features len 18\n",
            "✅ Q01726 -> features len 18\n",
            "✅ Q03431 -> features len 18\n",
            "✅ Q08BG4 -> features len 18\n",
            "✅ Q13255 -> features len 18\n",
            "✅ Q13258 -> features len 18\n",
            "✅ Q13304 -> features len 18\n",
            "✅ Q13467 -> features len 18\n",
            "✅ Q14416 -> features len 18\n",
            "✅ Q14831 -> features len 18\n",
            "✅ Q14833 -> features len 18\n",
            "✅ Q15077 -> features len 18\n",
            "✅ Q15391 -> features len 18\n",
            "✅ Q16602 -> features len 18\n",
            "✅ Q27IM2 -> features len 18\n",
            "✅ Q28044 -> features len 18\n",
            "✅ Q28642 -> features len 18\n",
            "✅ Q28691 -> features len 18\n",
            "✅ Q29010 -> features len 18\n",
            "✅ Q2NNR5 -> features len 18\n",
            "✅ Q60614 -> features len 18\n",
            "✅ Q62758 -> features len 18\n",
            "✅ Q63371 -> features len 18\n",
            "✅ Q63384 -> features len 18\n",
            "✅ Q63931 -> features len 18\n",
            "✅ Q64077 -> features len 18\n",
            "✅ Q76JU9 -> features len 18\n",
            "✅ Q7TQN8 -> features len 18\n",
            "✅ Q80SS6 -> features len 18\n",
            "✅ Q80Z39 -> features len 18\n",
            "✅ Q8HZ64 -> features len 18\n",
            "✅ Q8K3T4 -> features len 18\n",
            "✅ Q8K4Z4 -> features len 18\n",
            "✅ Q8TDS4 -> features len 18\n",
            "✅ Q8TDU6 -> features len 18\n",
            "✅ Q8TDV5 -> features len 18\n",
            "✅ Q91ZY2 -> features len 18\n",
            "✅ Q923Y8 -> features len 18\n",
            "✅ Q92633 -> features len 18\n",
            "✅ Q92847 -> features len 18\n",
            "✅ Q969F8 -> features len 18\n",
            "✅ Q96RJ0 -> features len 18\n",
            "✅ Q98157 -> features len 18\n",
            "✅ Q99500 -> features len 18\n",
            "✅ Q99705 -> features len 18\n",
            "✅ Q99835 -> features len 18\n",
            "✅ Q9GZQ4 -> features len 18\n",
            "✅ Q9GZQ6 -> features len 18\n",
            "✅ Q9H228 -> features len 18\n",
            "✅ Q9H244 -> features len 18\n",
            "✅ Q9H255 -> features len 18\n",
            "✅ Q9H3N8 -> features len 18\n",
            "✅ Q9HB89 -> features len 18\n",
            "✅ Q9HBW0 -> features len 18\n",
            "✅ Q9HC97 -> features len 18\n",
            "✅ Q9NS75 -> features len 18\n",
            "✅ Q9UBS5 -> features len 18\n",
            "✅ Q9UBY5 -> features len 18\n",
            "✅ Q9UKP6 -> features len 18\n",
            "✅ Q9ULV1 -> features len 18\n",
            "✅ Q9WTK1 -> features len 18\n",
            "✅ Q9WV26 -> features len 18\n",
            "✅ Q9Y271 -> features len 18\n",
            "✅ Q9Y2T5 -> features len 18\n",
            "✅ Q9Y2T6 -> features len 18\n",
            "✅ Q9Y5N1 -> features len 18\n",
            "✅ Q9Y5Y4 -> features len 18\n",
            "Saved static features to: /content/static_features.csv\n"
          ]
        },
        {
          "output_type": "execute_result",
          "data": {
            "text/plain": [
              "'/content/static_features.csv'"
            ],
            "application/vnd.google.colaboratory.intrinsic+json": {
              "type": "string"
            }
          },
          "metadata": {},
          "execution_count": 9
        }
      ]
    },
    {
      "cell_type": "code",
      "source": [
        "# Colab cell\n",
        "import pandas as pd\n",
        "import numpy as np\n",
        "from sklearn.preprocessing import StandardScaler\n",
        "\n",
        "# Paths (update if stored in Drive)\n",
        "cls_path = CLS_EMBEDDINGS\n",
        "static_path = STATIC_OUT\n",
        "labels_path = LABELS_CSV\n",
        "\n",
        "esm_df = pd.read_csv(cls_path)      # ID + 1280 ESM columns (0..1279)\n",
        "static_df = pd.read_csv(static_path) # ID + structural features\n",
        "labels_df = pd.read_csv(labels_path) # ID + GO columns\n",
        "\n",
        "# Clean whitespace in column names\n",
        "labels_df.columns = [c.strip() for c in labels_df.columns]\n",
        "esm_df.columns = [c.strip() for c in esm_df.columns]\n",
        "static_df.columns = [c.strip() for c in static_df.columns]\n",
        "\n",
        "# Merge: first join esm + static on ID, then merge labels\n",
        "merged = pd.merge(esm_df, static_df, on=\"ID\", how=\"inner\")\n",
        "merged = pd.merge(merged, labels_df, on=\"ID\", how=\"inner\")\n",
        "\n",
        "print(\"Merged shape:\", merged.shape)\n",
        "# Save merged file for record\n",
        "merged.to_csv(\"esm_static_with_labels.csv\", index=False)\n",
        "print(\"Saved: esm_static_with_labels.csv\")\n"
      ],
      "metadata": {
        "id": "jGjBYVLXammn",
        "colab": {
          "base_uri": "https://localhost:8080/"
        },
        "outputId": "6402fd21-7f73-4dc0-f42b-f207ce52bd1a"
      },
      "execution_count": 10,
      "outputs": [
        {
          "output_type": "stream",
          "name": "stdout",
          "text": [
            "Merged shape: (265, 2593)\n",
            "Saved: esm_static_with_labels.csv\n"
          ]
        }
      ]
    },
    {
      "cell_type": "code",
      "source": [
        "import pandas as pd\n",
        "import numpy as np\n",
        "from sklearn.preprocessing import StandardScaler\n",
        "\n",
        "# ==== Paths to your files ====\n",
        "CLS_EMB_PATH   = \"/content/cls_embeddings.csv\"      # ESM CLS embedding file\n",
        "STATIC_PATH    = \"/content/static_features.csv\"     # Static structure embedding file\n",
        "OUTPUT_PATH    = \"/content/esm_static.csv\"          # Output merged file (no labels)\n",
        "\n",
        "# ==== Load the two CSVs ====\n",
        "cls_df = pd.read_csv(CLS_EMB_PATH)    # Expected: ID, 0, 1, 2, ..., 1279\n",
        "static_df = pd.read_csv(STATIC_PATH)  # Expected: ID + static feature columns\n",
        "\n",
        "print(\"CLS shape:\", cls_df.shape)\n",
        "print(\"Static shape:\", static_df.shape)\n",
        "\n",
        "# ==== Merge by ID ====\n",
        "merged_df = pd.merge(cls_df, static_df, on=\"ID\", how=\"inner\")\n",
        "print(\"Merged shape (before scaling):\", merged_df.shape)\n",
        "\n",
        "# ==== Identify column groups ====\n",
        "esm_cols = [c for c in cls_df.columns if c != \"ID\"]  # 1280 cols\n",
        "static_cols = [c for c in static_df.columns if c != \"ID\"]\n",
        "\n",
        "# ==== Scale static features ====\n",
        "scaler = StandardScaler()\n",
        "scaled_static = scaler.fit_transform(merged_df[static_cols])\n",
        "\n",
        "# ==== Combine ESM + scaled static ====\n",
        "esm_values = merged_df[esm_cols].values\n",
        "X_combined = np.hstack([esm_values, scaled_static])\n",
        "\n",
        "# ==== Create final DataFrame ====\n",
        "final_df = pd.DataFrame(X_combined, columns=list(esm_cols) + static_cols)\n",
        "final_df.insert(0, \"ID\", merged_df[\"ID\"])\n",
        "\n",
        "# ==== Save without labels ====\n",
        "final_df.to_csv(OUTPUT_PATH, index=False)\n",
        "print(f\"Saved merged embeddings to {OUTPUT_PATH}\")\n"
      ],
      "metadata": {
        "colab": {
          "base_uri": "https://localhost:8080/"
        },
        "id": "H-ZMwqIOnnEM",
        "outputId": "2f314a57-c65b-41b9-8e1a-53b7a0e185c0"
      },
      "execution_count": 16,
      "outputs": [
        {
          "output_type": "stream",
          "name": "stdout",
          "text": [
            "CLS shape: (265, 1281)\n",
            "Static shape: (265, 19)\n",
            "Merged shape (before scaling): (265, 1299)\n",
            "Saved merged embeddings to /content/esm_static.csv\n"
          ]
        }
      ]
    },
    {
      "cell_type": "code",
      "source": [
        "# Colab cell\n",
        "from sklearn.model_selection import train_test_split\n",
        "\n",
        "df = pd.read_csv(\"esm_static_with_labels.csv\")\n",
        "\n",
        "# Identify GO columns: assume they start after embedding+static columns -- but safer:\n",
        "# We will detect GO columns by 'GO:' prefix in column names\n",
        "go_cols = [c for c in df.columns if c.startswith(\"GO:\")]\n",
        "print(\"Number of GO labels:\", len(go_cols))\n",
        "\n",
        "# Identify ESM embedding columns (common naming 0..1279)\n",
        "esm_cols = [c for c in df.columns if c.isdigit()]  # if ESM columns are numeric strings\n",
        "# If not numeric, adjust accordingly (e.g., '0','1',..)\n",
        "print(\"ESM cols count:\", len(esm_cols))\n",
        "\n",
        "# Static feature columns = all columns between 'ID' and GO columns not in esm_cols\n",
        "static_cols = [c for c in df.columns if c not in ([\"ID\"] + esm_cols + go_cols)]\n",
        "print(\"Static cols:\", static_cols)\n",
        "\n",
        "# Build X and Y\n",
        "X = df[esm_cols + static_cols].copy()\n",
        "Y = df[go_cols].copy()\n",
        "\n",
        "# Scale static features (so they play nicely with ESM embeddings)\n",
        "scaler = StandardScaler()\n",
        "X_static = scaler.fit_transform(X[static_cols])\n",
        "X_scaled = np.hstack([X[esm_cols].values, X_static])\n",
        "X_df = pd.DataFrame(X_scaled, columns = list(esm_cols) + static_cols)\n",
        "X_df.insert(0, \"ID\", df[\"ID\"])\n",
        "merged_ready = pd.concat([X_df, Y.reset_index(drop=True)], axis=1)\n",
        "\n",
        "# Quick train/test split (same as Model 1 style)\n",
        "X_train, X_test, Y_train, Y_test = train_test_split(\n",
        "    X_scaled, Y.values, test_size=0.2, random_state=42\n",
        ")\n",
        "\n",
        "print(\"Train samples:\", X_train.shape[0], \"Test:\", X_test.shape[0])\n"
      ],
      "metadata": {
        "colab": {
          "base_uri": "https://localhost:8080/"
        },
        "id": "ClOYSAxqkxTI",
        "outputId": "6767065d-24d8-4179-c011-ea77ffce0229"
      },
      "execution_count": 11,
      "outputs": [
        {
          "output_type": "stream",
          "name": "stdout",
          "text": [
            "Number of GO labels: 14\n",
            "ESM cols count: 0\n",
            "Static cols: ['0_x', '1_x', '2_x', '3_x', '4_x', '5_x', '6_x', '7_x', '8_x', '9_x', '10_x', '11_x', '12_x', '13_x', '14_x', '15_x', '16_x', '17_x', '18_x', '19_x', '20_x', '21_x', '22_x', '23_x', '24_x', '25_x', '26_x', '27_x', '28_x', '29_x', '30_x', '31_x', '32_x', '33_x', '34_x', '35_x', '36_x', '37_x', '38_x', '39_x', '40_x', '41_x', '42_x', '43_x', '44_x', '45_x', '46_x', '47_x', '48_x', '49_x', '50_x', '51_x', '52_x', '53_x', '54_x', '55_x', '56_x', '57_x', '58_x', '59_x', '60_x', '61_x', '62_x', '63_x', '64_x', '65_x', '66_x', '67_x', '68_x', '69_x', '70_x', '71_x', '72_x', '73_x', '74_x', '75_x', '76_x', '77_x', '78_x', '79_x', '80_x', '81_x', '82_x', '83_x', '84_x', '85_x', '86_x', '87_x', '88_x', '89_x', '90_x', '91_x', '92_x', '93_x', '94_x', '95_x', '96_x', '97_x', '98_x', '99_x', '100_x', '101_x', '102_x', '103_x', '104_x', '105_x', '106_x', '107_x', '108_x', '109_x', '110_x', '111_x', '112_x', '113_x', '114_x', '115_x', '116_x', '117_x', '118_x', '119_x', '120_x', '121_x', '122_x', '123_x', '124_x', '125_x', '126_x', '127_x', '128_x', '129_x', '130_x', '131_x', '132_x', '133_x', '134_x', '135_x', '136_x', '137_x', '138_x', '139_x', '140_x', '141_x', '142_x', '143_x', '144_x', '145_x', '146_x', '147_x', '148_x', '149_x', '150_x', '151_x', '152_x', '153_x', '154_x', '155_x', '156_x', '157_x', '158_x', '159_x', '160_x', '161_x', '162_x', '163_x', '164_x', '165_x', '166_x', '167_x', '168_x', '169_x', '170_x', '171_x', '172_x', '173_x', '174_x', '175_x', '176_x', '177_x', '178_x', '179_x', '180_x', '181_x', '182_x', '183_x', '184_x', '185_x', '186_x', '187_x', '188_x', '189_x', '190_x', '191_x', '192_x', '193_x', '194_x', '195_x', '196_x', '197_x', '198_x', '199_x', '200_x', '201_x', '202_x', '203_x', '204_x', '205_x', '206_x', '207_x', '208_x', '209_x', '210_x', '211_x', '212_x', '213_x', '214_x', '215_x', '216_x', '217_x', '218_x', '219_x', '220_x', '221_x', '222_x', '223_x', '224_x', '225_x', '226_x', '227_x', '228_x', '229_x', '230_x', '231_x', '232_x', '233_x', '234_x', '235_x', '236_x', '237_x', '238_x', '239_x', '240_x', '241_x', '242_x', '243_x', '244_x', '245_x', '246_x', '247_x', '248_x', '249_x', '250_x', '251_x', '252_x', '253_x', '254_x', '255_x', '256_x', '257_x', '258_x', '259_x', '260_x', '261_x', '262_x', '263_x', '264_x', '265_x', '266_x', '267_x', '268_x', '269_x', '270_x', '271_x', '272_x', '273_x', '274_x', '275_x', '276_x', '277_x', '278_x', '279_x', '280_x', '281_x', '282_x', '283_x', '284_x', '285_x', '286_x', '287_x', '288_x', '289_x', '290_x', '291_x', '292_x', '293_x', '294_x', '295_x', '296_x', '297_x', '298_x', '299_x', '300_x', '301_x', '302_x', '303_x', '304_x', '305_x', '306_x', '307_x', '308_x', '309_x', '310_x', '311_x', '312_x', '313_x', '314_x', '315_x', '316_x', '317_x', '318_x', '319_x', '320_x', '321_x', '322_x', '323_x', '324_x', '325_x', '326_x', '327_x', '328_x', '329_x', '330_x', '331_x', '332_x', '333_x', '334_x', '335_x', '336_x', '337_x', '338_x', '339_x', '340_x', '341_x', '342_x', '343_x', '344_x', '345_x', '346_x', '347_x', '348_x', '349_x', '350_x', '351_x', '352_x', '353_x', '354_x', '355_x', '356_x', '357_x', '358_x', '359_x', '360_x', '361_x', '362_x', '363_x', '364_x', '365_x', '366_x', '367_x', '368_x', '369_x', '370_x', '371_x', '372_x', '373_x', '374_x', '375_x', '376_x', '377_x', '378_x', '379_x', '380_x', '381_x', '382_x', '383_x', '384_x', '385_x', '386_x', '387_x', '388_x', '389_x', '390_x', '391_x', '392_x', '393_x', '394_x', '395_x', '396_x', '397_x', '398_x', '399_x', '400_x', '401_x', '402_x', '403_x', '404_x', '405_x', '406_x', '407_x', '408_x', '409_x', '410_x', '411_x', '412_x', '413_x', '414_x', '415_x', '416_x', '417_x', '418_x', '419_x', '420_x', '421_x', '422_x', '423_x', '424_x', '425_x', '426_x', '427_x', '428_x', '429_x', '430_x', '431_x', '432_x', '433_x', '434_x', '435_x', '436_x', '437_x', '438_x', '439_x', '440_x', '441_x', '442_x', '443_x', '444_x', '445_x', '446_x', '447_x', '448_x', '449_x', '450_x', '451_x', '452_x', '453_x', '454_x', '455_x', '456_x', '457_x', '458_x', '459_x', '460_x', '461_x', '462_x', '463_x', '464_x', '465_x', '466_x', '467_x', '468_x', '469_x', '470_x', '471_x', '472_x', '473_x', '474_x', '475_x', '476_x', '477_x', '478_x', '479_x', '480_x', '481_x', '482_x', '483_x', '484_x', '485_x', '486_x', '487_x', '488_x', '489_x', '490_x', '491_x', '492_x', '493_x', '494_x', '495_x', '496_x', '497_x', '498_x', '499_x', '500_x', '501_x', '502_x', '503_x', '504_x', '505_x', '506_x', '507_x', '508_x', '509_x', '510_x', '511_x', '512_x', '513_x', '514_x', '515_x', '516_x', '517_x', '518_x', '519_x', '520_x', '521_x', '522_x', '523_x', '524_x', '525_x', '526_x', '527_x', '528_x', '529_x', '530_x', '531_x', '532_x', '533_x', '534_x', '535_x', '536_x', '537_x', '538_x', '539_x', '540_x', '541_x', '542_x', '543_x', '544_x', '545_x', '546_x', '547_x', '548_x', '549_x', '550_x', '551_x', '552_x', '553_x', '554_x', '555_x', '556_x', '557_x', '558_x', '559_x', '560_x', '561_x', '562_x', '563_x', '564_x', '565_x', '566_x', '567_x', '568_x', '569_x', '570_x', '571_x', '572_x', '573_x', '574_x', '575_x', '576_x', '577_x', '578_x', '579_x', '580_x', '581_x', '582_x', '583_x', '584_x', '585_x', '586_x', '587_x', '588_x', '589_x', '590_x', '591_x', '592_x', '593_x', '594_x', '595_x', '596_x', '597_x', '598_x', '599_x', '600_x', '601_x', '602_x', '603_x', '604_x', '605_x', '606_x', '607_x', '608_x', '609_x', '610_x', '611_x', '612_x', '613_x', '614_x', '615_x', '616_x', '617_x', '618_x', '619_x', '620_x', '621_x', '622_x', '623_x', '624_x', '625_x', '626_x', '627_x', '628_x', '629_x', '630_x', '631_x', '632_x', '633_x', '634_x', '635_x', '636_x', '637_x', '638_x', '639_x', '640_x', '641_x', '642_x', '643_x', '644_x', '645_x', '646_x', '647_x', '648_x', '649_x', '650_x', '651_x', '652_x', '653_x', '654_x', '655_x', '656_x', '657_x', '658_x', '659_x', '660_x', '661_x', '662_x', '663_x', '664_x', '665_x', '666_x', '667_x', '668_x', '669_x', '670_x', '671_x', '672_x', '673_x', '674_x', '675_x', '676_x', '677_x', '678_x', '679_x', '680_x', '681_x', '682_x', '683_x', '684_x', '685_x', '686_x', '687_x', '688_x', '689_x', '690_x', '691_x', '692_x', '693_x', '694_x', '695_x', '696_x', '697_x', '698_x', '699_x', '700_x', '701_x', '702_x', '703_x', '704_x', '705_x', '706_x', '707_x', '708_x', '709_x', '710_x', '711_x', '712_x', '713_x', '714_x', '715_x', '716_x', '717_x', '718_x', '719_x', '720_x', '721_x', '722_x', '723_x', '724_x', '725_x', '726_x', '727_x', '728_x', '729_x', '730_x', '731_x', '732_x', '733_x', '734_x', '735_x', '736_x', '737_x', '738_x', '739_x', '740_x', '741_x', '742_x', '743_x', '744_x', '745_x', '746_x', '747_x', '748_x', '749_x', '750_x', '751_x', '752_x', '753_x', '754_x', '755_x', '756_x', '757_x', '758_x', '759_x', '760_x', '761_x', '762_x', '763_x', '764_x', '765_x', '766_x', '767_x', '768_x', '769_x', '770_x', '771_x', '772_x', '773_x', '774_x', '775_x', '776_x', '777_x', '778_x', '779_x', '780_x', '781_x', '782_x', '783_x', '784_x', '785_x', '786_x', '787_x', '788_x', '789_x', '790_x', '791_x', '792_x', '793_x', '794_x', '795_x', '796_x', '797_x', '798_x', '799_x', '800_x', '801_x', '802_x', '803_x', '804_x', '805_x', '806_x', '807_x', '808_x', '809_x', '810_x', '811_x', '812_x', '813_x', '814_x', '815_x', '816_x', '817_x', '818_x', '819_x', '820_x', '821_x', '822_x', '823_x', '824_x', '825_x', '826_x', '827_x', '828_x', '829_x', '830_x', '831_x', '832_x', '833_x', '834_x', '835_x', '836_x', '837_x', '838_x', '839_x', '840_x', '841_x', '842_x', '843_x', '844_x', '845_x', '846_x', '847_x', '848_x', '849_x', '850_x', '851_x', '852_x', '853_x', '854_x', '855_x', '856_x', '857_x', '858_x', '859_x', '860_x', '861_x', '862_x', '863_x', '864_x', '865_x', '866_x', '867_x', '868_x', '869_x', '870_x', '871_x', '872_x', '873_x', '874_x', '875_x', '876_x', '877_x', '878_x', '879_x', '880_x', '881_x', '882_x', '883_x', '884_x', '885_x', '886_x', '887_x', '888_x', '889_x', '890_x', '891_x', '892_x', '893_x', '894_x', '895_x', '896_x', '897_x', '898_x', '899_x', '900_x', '901_x', '902_x', '903_x', '904_x', '905_x', '906_x', '907_x', '908_x', '909_x', '910_x', '911_x', '912_x', '913_x', '914_x', '915_x', '916_x', '917_x', '918_x', '919_x', '920_x', '921_x', '922_x', '923_x', '924_x', '925_x', '926_x', '927_x', '928_x', '929_x', '930_x', '931_x', '932_x', '933_x', '934_x', '935_x', '936_x', '937_x', '938_x', '939_x', '940_x', '941_x', '942_x', '943_x', '944_x', '945_x', '946_x', '947_x', '948_x', '949_x', '950_x', '951_x', '952_x', '953_x', '954_x', '955_x', '956_x', '957_x', '958_x', '959_x', '960_x', '961_x', '962_x', '963_x', '964_x', '965_x', '966_x', '967_x', '968_x', '969_x', '970_x', '971_x', '972_x', '973_x', '974_x', '975_x', '976_x', '977_x', '978_x', '979_x', '980_x', '981_x', '982_x', '983_x', '984_x', '985_x', '986_x', '987_x', '988_x', '989_x', '990_x', '991_x', '992_x', '993_x', '994_x', '995_x', '996_x', '997_x', '998_x', '999_x', '1000_x', '1001_x', '1002_x', '1003_x', '1004_x', '1005_x', '1006_x', '1007_x', '1008_x', '1009_x', '1010_x', '1011_x', '1012_x', '1013_x', '1014_x', '1015_x', '1016_x', '1017_x', '1018_x', '1019_x', '1020_x', '1021_x', '1022_x', '1023_x', '1024_x', '1025_x', '1026_x', '1027_x', '1028_x', '1029_x', '1030_x', '1031_x', '1032_x', '1033_x', '1034_x', '1035_x', '1036_x', '1037_x', '1038_x', '1039_x', '1040_x', '1041_x', '1042_x', '1043_x', '1044_x', '1045_x', '1046_x', '1047_x', '1048_x', '1049_x', '1050_x', '1051_x', '1052_x', '1053_x', '1054_x', '1055_x', '1056_x', '1057_x', '1058_x', '1059_x', '1060_x', '1061_x', '1062_x', '1063_x', '1064_x', '1065_x', '1066_x', '1067_x', '1068_x', '1069_x', '1070_x', '1071_x', '1072_x', '1073_x', '1074_x', '1075_x', '1076_x', '1077_x', '1078_x', '1079_x', '1080_x', '1081_x', '1082_x', '1083_x', '1084_x', '1085_x', '1086_x', '1087_x', '1088_x', '1089_x', '1090_x', '1091_x', '1092_x', '1093_x', '1094_x', '1095_x', '1096_x', '1097_x', '1098_x', '1099_x', '1100_x', '1101_x', '1102_x', '1103_x', '1104_x', '1105_x', '1106_x', '1107_x', '1108_x', '1109_x', '1110_x', '1111_x', '1112_x', '1113_x', '1114_x', '1115_x', '1116_x', '1117_x', '1118_x', '1119_x', '1120_x', '1121_x', '1122_x', '1123_x', '1124_x', '1125_x', '1126_x', '1127_x', '1128_x', '1129_x', '1130_x', '1131_x', '1132_x', '1133_x', '1134_x', '1135_x', '1136_x', '1137_x', '1138_x', '1139_x', '1140_x', '1141_x', '1142_x', '1143_x', '1144_x', '1145_x', '1146_x', '1147_x', '1148_x', '1149_x', '1150_x', '1151_x', '1152_x', '1153_x', '1154_x', '1155_x', '1156_x', '1157_x', '1158_x', '1159_x', '1160_x', '1161_x', '1162_x', '1163_x', '1164_x', '1165_x', '1166_x', '1167_x', '1168_x', '1169_x', '1170_x', '1171_x', '1172_x', '1173_x', '1174_x', '1175_x', '1176_x', '1177_x', '1178_x', '1179_x', '1180_x', '1181_x', '1182_x', '1183_x', '1184_x', '1185_x', '1186_x', '1187_x', '1188_x', '1189_x', '1190_x', '1191_x', '1192_x', '1193_x', '1194_x', '1195_x', '1196_x', '1197_x', '1198_x', '1199_x', '1200_x', '1201_x', '1202_x', '1203_x', '1204_x', '1205_x', '1206_x', '1207_x', '1208_x', '1209_x', '1210_x', '1211_x', '1212_x', '1213_x', '1214_x', '1215_x', '1216_x', '1217_x', '1218_x', '1219_x', '1220_x', '1221_x', '1222_x', '1223_x', '1224_x', '1225_x', '1226_x', '1227_x', '1228_x', '1229_x', '1230_x', '1231_x', '1232_x', '1233_x', '1234_x', '1235_x', '1236_x', '1237_x', '1238_x', '1239_x', '1240_x', '1241_x', '1242_x', '1243_x', '1244_x', '1245_x', '1246_x', '1247_x', '1248_x', '1249_x', '1250_x', '1251_x', '1252_x', '1253_x', '1254_x', '1255_x', '1256_x', '1257_x', '1258_x', '1259_x', '1260_x', '1261_x', '1262_x', '1263_x', '1264_x', '1265_x', '1266_x', '1267_x', '1268_x', '1269_x', '1270_x', '1271_x', '1272_x', '1273_x', '1274_x', '1275_x', '1276_x', '1277_x', '1278_x', '1279_x', 'L', 'Rg', 'mean_dist', 'std_dist', 'avg_contacts_per_res', 'hydrophobic_frac', 'polar_frac', 'charged_frac', 'dist_hist_0', 'dist_hist_1', 'dist_hist_2', 'dist_hist_3', 'dist_hist_4', 'dist_hist_5', 'dist_hist_6', 'dist_hist_7', 'dist_hist_8', 'dist_hist_9', '0_y', '1_y', '2_y', '3_y', '4_y', '5_y', '6_y', '7_y', '8_y', '9_y', '10_y', '11_y', '12_y', '13_y', '14_y', '15_y', '16_y', '17_y', '18_y', '19_y', '20_y', '21_y', '22_y', '23_y', '24_y', '25_y', '26_y', '27_y', '28_y', '29_y', '30_y', '31_y', '32_y', '33_y', '34_y', '35_y', '36_y', '37_y', '38_y', '39_y', '40_y', '41_y', '42_y', '43_y', '44_y', '45_y', '46_y', '47_y', '48_y', '49_y', '50_y', '51_y', '52_y', '53_y', '54_y', '55_y', '56_y', '57_y', '58_y', '59_y', '60_y', '61_y', '62_y', '63_y', '64_y', '65_y', '66_y', '67_y', '68_y', '69_y', '70_y', '71_y', '72_y', '73_y', '74_y', '75_y', '76_y', '77_y', '78_y', '79_y', '80_y', '81_y', '82_y', '83_y', '84_y', '85_y', '86_y', '87_y', '88_y', '89_y', '90_y', '91_y', '92_y', '93_y', '94_y', '95_y', '96_y', '97_y', '98_y', '99_y', '100_y', '101_y', '102_y', '103_y', '104_y', '105_y', '106_y', '107_y', '108_y', '109_y', '110_y', '111_y', '112_y', '113_y', '114_y', '115_y', '116_y', '117_y', '118_y', '119_y', '120_y', '121_y', '122_y', '123_y', '124_y', '125_y', '126_y', '127_y', '128_y', '129_y', '130_y', '131_y', '132_y', '133_y', '134_y', '135_y', '136_y', '137_y', '138_y', '139_y', '140_y', '141_y', '142_y', '143_y', '144_y', '145_y', '146_y', '147_y', '148_y', '149_y', '150_y', '151_y', '152_y', '153_y', '154_y', '155_y', '156_y', '157_y', '158_y', '159_y', '160_y', '161_y', '162_y', '163_y', '164_y', '165_y', '166_y', '167_y', '168_y', '169_y', '170_y', '171_y', '172_y', '173_y', '174_y', '175_y', '176_y', '177_y', '178_y', '179_y', '180_y', '181_y', '182_y', '183_y', '184_y', '185_y', '186_y', '187_y', '188_y', '189_y', '190_y', '191_y', '192_y', '193_y', '194_y', '195_y', '196_y', '197_y', '198_y', '199_y', '200_y', '201_y', '202_y', '203_y', '204_y', '205_y', '206_y', '207_y', '208_y', '209_y', '210_y', '211_y', '212_y', '213_y', '214_y', '215_y', '216_y', '217_y', '218_y', '219_y', '220_y', '221_y', '222_y', '223_y', '224_y', '225_y', '226_y', '227_y', '228_y', '229_y', '230_y', '231_y', '232_y', '233_y', '234_y', '235_y', '236_y', '237_y', '238_y', '239_y', '240_y', '241_y', '242_y', '243_y', '244_y', '245_y', '246_y', '247_y', '248_y', '249_y', '250_y', '251_y', '252_y', '253_y', '254_y', '255_y', '256_y', '257_y', '258_y', '259_y', '260_y', '261_y', '262_y', '263_y', '264_y', '265_y', '266_y', '267_y', '268_y', '269_y', '270_y', '271_y', '272_y', '273_y', '274_y', '275_y', '276_y', '277_y', '278_y', '279_y', '280_y', '281_y', '282_y', '283_y', '284_y', '285_y', '286_y', '287_y', '288_y', '289_y', '290_y', '291_y', '292_y', '293_y', '294_y', '295_y', '296_y', '297_y', '298_y', '299_y', '300_y', '301_y', '302_y', '303_y', '304_y', '305_y', '306_y', '307_y', '308_y', '309_y', '310_y', '311_y', '312_y', '313_y', '314_y', '315_y', '316_y', '317_y', '318_y', '319_y', '320_y', '321_y', '322_y', '323_y', '324_y', '325_y', '326_y', '327_y', '328_y', '329_y', '330_y', '331_y', '332_y', '333_y', '334_y', '335_y', '336_y', '337_y', '338_y', '339_y', '340_y', '341_y', '342_y', '343_y', '344_y', '345_y', '346_y', '347_y', '348_y', '349_y', '350_y', '351_y', '352_y', '353_y', '354_y', '355_y', '356_y', '357_y', '358_y', '359_y', '360_y', '361_y', '362_y', '363_y', '364_y', '365_y', '366_y', '367_y', '368_y', '369_y', '370_y', '371_y', '372_y', '373_y', '374_y', '375_y', '376_y', '377_y', '378_y', '379_y', '380_y', '381_y', '382_y', '383_y', '384_y', '385_y', '386_y', '387_y', '388_y', '389_y', '390_y', '391_y', '392_y', '393_y', '394_y', '395_y', '396_y', '397_y', '398_y', '399_y', '400_y', '401_y', '402_y', '403_y', '404_y', '405_y', '406_y', '407_y', '408_y', '409_y', '410_y', '411_y', '412_y', '413_y', '414_y', '415_y', '416_y', '417_y', '418_y', '419_y', '420_y', '421_y', '422_y', '423_y', '424_y', '425_y', '426_y', '427_y', '428_y', '429_y', '430_y', '431_y', '432_y', '433_y', '434_y', '435_y', '436_y', '437_y', '438_y', '439_y', '440_y', '441_y', '442_y', '443_y', '444_y', '445_y', '446_y', '447_y', '448_y', '449_y', '450_y', '451_y', '452_y', '453_y', '454_y', '455_y', '456_y', '457_y', '458_y', '459_y', '460_y', '461_y', '462_y', '463_y', '464_y', '465_y', '466_y', '467_y', '468_y', '469_y', '470_y', '471_y', '472_y', '473_y', '474_y', '475_y', '476_y', '477_y', '478_y', '479_y', '480_y', '481_y', '482_y', '483_y', '484_y', '485_y', '486_y', '487_y', '488_y', '489_y', '490_y', '491_y', '492_y', '493_y', '494_y', '495_y', '496_y', '497_y', '498_y', '499_y', '500_y', '501_y', '502_y', '503_y', '504_y', '505_y', '506_y', '507_y', '508_y', '509_y', '510_y', '511_y', '512_y', '513_y', '514_y', '515_y', '516_y', '517_y', '518_y', '519_y', '520_y', '521_y', '522_y', '523_y', '524_y', '525_y', '526_y', '527_y', '528_y', '529_y', '530_y', '531_y', '532_y', '533_y', '534_y', '535_y', '536_y', '537_y', '538_y', '539_y', '540_y', '541_y', '542_y', '543_y', '544_y', '545_y', '546_y', '547_y', '548_y', '549_y', '550_y', '551_y', '552_y', '553_y', '554_y', '555_y', '556_y', '557_y', '558_y', '559_y', '560_y', '561_y', '562_y', '563_y', '564_y', '565_y', '566_y', '567_y', '568_y', '569_y', '570_y', '571_y', '572_y', '573_y', '574_y', '575_y', '576_y', '577_y', '578_y', '579_y', '580_y', '581_y', '582_y', '583_y', '584_y', '585_y', '586_y', '587_y', '588_y', '589_y', '590_y', '591_y', '592_y', '593_y', '594_y', '595_y', '596_y', '597_y', '598_y', '599_y', '600_y', '601_y', '602_y', '603_y', '604_y', '605_y', '606_y', '607_y', '608_y', '609_y', '610_y', '611_y', '612_y', '613_y', '614_y', '615_y', '616_y', '617_y', '618_y', '619_y', '620_y', '621_y', '622_y', '623_y', '624_y', '625_y', '626_y', '627_y', '628_y', '629_y', '630_y', '631_y', '632_y', '633_y', '634_y', '635_y', '636_y', '637_y', '638_y', '639_y', '640_y', '641_y', '642_y', '643_y', '644_y', '645_y', '646_y', '647_y', '648_y', '649_y', '650_y', '651_y', '652_y', '653_y', '654_y', '655_y', '656_y', '657_y', '658_y', '659_y', '660_y', '661_y', '662_y', '663_y', '664_y', '665_y', '666_y', '667_y', '668_y', '669_y', '670_y', '671_y', '672_y', '673_y', '674_y', '675_y', '676_y', '677_y', '678_y', '679_y', '680_y', '681_y', '682_y', '683_y', '684_y', '685_y', '686_y', '687_y', '688_y', '689_y', '690_y', '691_y', '692_y', '693_y', '694_y', '695_y', '696_y', '697_y', '698_y', '699_y', '700_y', '701_y', '702_y', '703_y', '704_y', '705_y', '706_y', '707_y', '708_y', '709_y', '710_y', '711_y', '712_y', '713_y', '714_y', '715_y', '716_y', '717_y', '718_y', '719_y', '720_y', '721_y', '722_y', '723_y', '724_y', '725_y', '726_y', '727_y', '728_y', '729_y', '730_y', '731_y', '732_y', '733_y', '734_y', '735_y', '736_y', '737_y', '738_y', '739_y', '740_y', '741_y', '742_y', '743_y', '744_y', '745_y', '746_y', '747_y', '748_y', '749_y', '750_y', '751_y', '752_y', '753_y', '754_y', '755_y', '756_y', '757_y', '758_y', '759_y', '760_y', '761_y', '762_y', '763_y', '764_y', '765_y', '766_y', '767_y', '768_y', '769_y', '770_y', '771_y', '772_y', '773_y', '774_y', '775_y', '776_y', '777_y', '778_y', '779_y', '780_y', '781_y', '782_y', '783_y', '784_y', '785_y', '786_y', '787_y', '788_y', '789_y', '790_y', '791_y', '792_y', '793_y', '794_y', '795_y', '796_y', '797_y', '798_y', '799_y', '800_y', '801_y', '802_y', '803_y', '804_y', '805_y', '806_y', '807_y', '808_y', '809_y', '810_y', '811_y', '812_y', '813_y', '814_y', '815_y', '816_y', '817_y', '818_y', '819_y', '820_y', '821_y', '822_y', '823_y', '824_y', '825_y', '826_y', '827_y', '828_y', '829_y', '830_y', '831_y', '832_y', '833_y', '834_y', '835_y', '836_y', '837_y', '838_y', '839_y', '840_y', '841_y', '842_y', '843_y', '844_y', '845_y', '846_y', '847_y', '848_y', '849_y', '850_y', '851_y', '852_y', '853_y', '854_y', '855_y', '856_y', '857_y', '858_y', '859_y', '860_y', '861_y', '862_y', '863_y', '864_y', '865_y', '866_y', '867_y', '868_y', '869_y', '870_y', '871_y', '872_y', '873_y', '874_y', '875_y', '876_y', '877_y', '878_y', '879_y', '880_y', '881_y', '882_y', '883_y', '884_y', '885_y', '886_y', '887_y', '888_y', '889_y', '890_y', '891_y', '892_y', '893_y', '894_y', '895_y', '896_y', '897_y', '898_y', '899_y', '900_y', '901_y', '902_y', '903_y', '904_y', '905_y', '906_y', '907_y', '908_y', '909_y', '910_y', '911_y', '912_y', '913_y', '914_y', '915_y', '916_y', '917_y', '918_y', '919_y', '920_y', '921_y', '922_y', '923_y', '924_y', '925_y', '926_y', '927_y', '928_y', '929_y', '930_y', '931_y', '932_y', '933_y', '934_y', '935_y', '936_y', '937_y', '938_y', '939_y', '940_y', '941_y', '942_y', '943_y', '944_y', '945_y', '946_y', '947_y', '948_y', '949_y', '950_y', '951_y', '952_y', '953_y', '954_y', '955_y', '956_y', '957_y', '958_y', '959_y', '960_y', '961_y', '962_y', '963_y', '964_y', '965_y', '966_y', '967_y', '968_y', '969_y', '970_y', '971_y', '972_y', '973_y', '974_y', '975_y', '976_y', '977_y', '978_y', '979_y', '980_y', '981_y', '982_y', '983_y', '984_y', '985_y', '986_y', '987_y', '988_y', '989_y', '990_y', '991_y', '992_y', '993_y', '994_y', '995_y', '996_y', '997_y', '998_y', '999_y', '1000_y', '1001_y', '1002_y', '1003_y', '1004_y', '1005_y', '1006_y', '1007_y', '1008_y', '1009_y', '1010_y', '1011_y', '1012_y', '1013_y', '1014_y', '1015_y', '1016_y', '1017_y', '1018_y', '1019_y', '1020_y', '1021_y', '1022_y', '1023_y', '1024_y', '1025_y', '1026_y', '1027_y', '1028_y', '1029_y', '1030_y', '1031_y', '1032_y', '1033_y', '1034_y', '1035_y', '1036_y', '1037_y', '1038_y', '1039_y', '1040_y', '1041_y', '1042_y', '1043_y', '1044_y', '1045_y', '1046_y', '1047_y', '1048_y', '1049_y', '1050_y', '1051_y', '1052_y', '1053_y', '1054_y', '1055_y', '1056_y', '1057_y', '1058_y', '1059_y', '1060_y', '1061_y', '1062_y', '1063_y', '1064_y', '1065_y', '1066_y', '1067_y', '1068_y', '1069_y', '1070_y', '1071_y', '1072_y', '1073_y', '1074_y', '1075_y', '1076_y', '1077_y', '1078_y', '1079_y', '1080_y', '1081_y', '1082_y', '1083_y', '1084_y', '1085_y', '1086_y', '1087_y', '1088_y', '1089_y', '1090_y', '1091_y', '1092_y', '1093_y', '1094_y', '1095_y', '1096_y', '1097_y', '1098_y', '1099_y', '1100_y', '1101_y', '1102_y', '1103_y', '1104_y', '1105_y', '1106_y', '1107_y', '1108_y', '1109_y', '1110_y', '1111_y', '1112_y', '1113_y', '1114_y', '1115_y', '1116_y', '1117_y', '1118_y', '1119_y', '1120_y', '1121_y', '1122_y', '1123_y', '1124_y', '1125_y', '1126_y', '1127_y', '1128_y', '1129_y', '1130_y', '1131_y', '1132_y', '1133_y', '1134_y', '1135_y', '1136_y', '1137_y', '1138_y', '1139_y', '1140_y', '1141_y', '1142_y', '1143_y', '1144_y', '1145_y', '1146_y', '1147_y', '1148_y', '1149_y', '1150_y', '1151_y', '1152_y', '1153_y', '1154_y', '1155_y', '1156_y', '1157_y', '1158_y', '1159_y', '1160_y', '1161_y', '1162_y', '1163_y', '1164_y', '1165_y', '1166_y', '1167_y', '1168_y', '1169_y', '1170_y', '1171_y', '1172_y', '1173_y', '1174_y', '1175_y', '1176_y', '1177_y', '1178_y', '1179_y', '1180_y', '1181_y', '1182_y', '1183_y', '1184_y', '1185_y', '1186_y', '1187_y', '1188_y', '1189_y', '1190_y', '1191_y', '1192_y', '1193_y', '1194_y', '1195_y', '1196_y', '1197_y', '1198_y', '1199_y', '1200_y', '1201_y', '1202_y', '1203_y', '1204_y', '1205_y', '1206_y', '1207_y', '1208_y', '1209_y', '1210_y', '1211_y', '1212_y', '1213_y', '1214_y', '1215_y', '1216_y', '1217_y', '1218_y', '1219_y', '1220_y', '1221_y', '1222_y', '1223_y', '1224_y', '1225_y', '1226_y', '1227_y', '1228_y', '1229_y', '1230_y', '1231_y', '1232_y', '1233_y', '1234_y', '1235_y', '1236_y', '1237_y', '1238_y', '1239_y', '1240_y', '1241_y', '1242_y', '1243_y', '1244_y', '1245_y', '1246_y', '1247_y', '1248_y', '1249_y', '1250_y', '1251_y', '1252_y', '1253_y', '1254_y', '1255_y', '1256_y', '1257_y', '1258_y', '1259_y', '1260_y', '1261_y', '1262_y', '1263_y', '1264_y', '1265_y', '1266_y', '1267_y', '1268_y', '1269_y', '1270_y', '1271_y', '1272_y', '1273_y', '1274_y', '1275_y', '1276_y', '1277_y', '1278_y', '1279_y']\n",
            "Train samples: 212 Test: 53\n"
          ]
        }
      ]
    },
    {
      "cell_type": "code",
      "source": [
        "from MLP_Model import build_mlp_model\n",
        "from train_MLP import train_model"
      ],
      "metadata": {
        "id": "-4ZGLsEwlaVj"
      },
      "execution_count": 14,
      "outputs": []
    },
    {
      "cell_type": "code",
      "source": [
        "X = pd.read_csv(\"/content/esm_static.csv\").iloc[:, 1:].values  # skip ID col\n",
        "Y = pd.read_csv(\"/content/esm_with_multihot_labels.csv\").values\n",
        "\n",
        "input_size = X.shape[1]\n",
        "output_size = Y.shape[1]"
      ],
      "metadata": {
        "id": "EpB1R1gslwxI"
      },
      "execution_count": 17,
      "outputs": []
    },
    {
      "cell_type": "code",
      "source": [
        "input_size"
      ],
      "metadata": {
        "colab": {
          "base_uri": "https://localhost:8080/"
        },
        "id": "rZ5zTz3RnIgT",
        "outputId": "1d5a5692-f72c-43ba-d05a-08b2dad72bc5"
      },
      "execution_count": 18,
      "outputs": [
        {
          "output_type": "execute_result",
          "data": {
            "text/plain": [
              "1298"
            ]
          },
          "metadata": {},
          "execution_count": 18
        }
      ]
    },
    {
      "cell_type": "code",
      "source": [
        "output_size"
      ],
      "metadata": {
        "colab": {
          "base_uri": "https://localhost:8080/"
        },
        "id": "VSUW0tXroNzi",
        "outputId": "bfb175da-05c7-4218-f7f3-050cdfe0b603"
      },
      "execution_count": 19,
      "outputs": [
        {
          "output_type": "execute_result",
          "data": {
            "text/plain": [
              "1295"
            ]
          },
          "metadata": {},
          "execution_count": 19
        }
      ]
    },
    {
      "cell_type": "code",
      "source": [],
      "metadata": {
        "id": "aSah2iw2oQJk"
      },
      "execution_count": null,
      "outputs": []
    }
  ]
}