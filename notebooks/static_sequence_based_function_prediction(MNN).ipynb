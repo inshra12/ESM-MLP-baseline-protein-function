{
  "nbformat": 4,
  "nbformat_minor": 0,
  "metadata": {
    "colab": {
      "provenance": [],
      "gpuType": "T4"
    },
    "kernelspec": {
      "name": "python3",
      "display_name": "Python 3"
    },
    "language_info": {
      "name": "python"
    },
    "accelerator": "GPU"
  },
  "cells": [
    {
      "cell_type": "markdown",
      "source": [
        "# Model 2-MNN"
      ],
      "metadata": {
        "id": "qrJzqgBkamKO"
      }
    },
    {
      "cell_type": "markdown",
      "source": [
        "## Importing files"
      ],
      "metadata": {
        "id": "lynOt408aqws"
      }
    },
    {
      "cell_type": "code",
      "source": [
        "# 1. Importing files and custom model\n",
        "import pandas as pd\n",
        "import torch\n",
        "from sklearn.model_selection import train_test_split\n",
        "from torch.utils.data import TensorDataset, DataLoader"
      ],
      "metadata": {
        "id": "UkjerS8Nm38c"
      },
      "execution_count": 61,
      "outputs": []
    },
    {
      "cell_type": "code",
      "source": [
        "# Import the MultiInputNet class from your new file\n",
        "from MNN_Model import MultiInputNet"
      ],
      "metadata": {
        "id": "ivts79qu0sMw"
      },
      "execution_count": 62,
      "outputs": []
    },
    {
      "cell_type": "code",
      "source": [
        "# Your custom data and training functions\n",
        "from data_loader import load_data, encode_labels\n",
        "from esm_embedder import save_embeddings\n",
        "from train_MLP import train_model"
      ],
      "metadata": {
        "id": "OQ7R32Pu0172"
      },
      "execution_count": 63,
      "outputs": []
    },
    {
      "cell_type": "code",
      "source": [
        "# 2. Loading Data\n",
        "df = load_data(\"/content/Protein_data(265).csv\")\n",
        "esm_df = pd.read_csv(\"/content/cls_embeddings.csv\")\n",
        "static_df = pd.read_csv(\"/content/static_features.csv\")"
      ],
      "metadata": {
        "id": "RreE8OWz1I-h",
        "outputId": "50ea15f4-56ac-42e9-8970-0d5ab1b37c8a",
        "colab": {
          "base_uri": "https://localhost:8080/"
        }
      },
      "execution_count": 64,
      "outputs": [
        {
          "output_type": "stream",
          "name": "stdout",
          "text": [
            "First protein entry:\n",
            " ID                                                     O00222\n",
            "Sequence    MVCEGKRSASCPCFFLLTAKFYWILTMMQRTHSQEYAHSIRVDGDI...\n",
            "BP          GO:0007196; GO:0007193; GO:0007216; GO:0051966...\n",
            "CC                                                 GO:0005886\n",
            "MF                         GO:0004930; GO:0008066; GO:0001642\n",
            "Labels      [GO:0004930,  GO:0008066,  GO:0007216, GO:0005...\n",
            "Name: 0, dtype: object\n"
          ]
        }
      ]
    },
    {
      "cell_type": "code",
      "source": [
        "# 3. Encoding labels and filtering\n",
        "encoded_labels, mlb = encode_labels(df[\"Labels\"])\n",
        "encoded_labels_df = pd.DataFrame(encoded_labels, columns=mlb.classes_).set_index(df[\"ID\"])\n",
        "go_term_counts = encoded_labels_df.sum(axis=0).sort_values(ascending=False)\n",
        "valid_go_terms = go_term_counts[go_term_counts >= 40].index\n",
        "filtered_labels_df = encoded_labels_df[valid_go_terms].reset_index()"
      ],
      "metadata": {
        "id": "zgA1gV6u1PUy",
        "outputId": "b5ed825b-ee3e-4245-9ac6-4bb74cdae996",
        "colab": {
          "base_uri": "https://localhost:8080/"
        }
      },
      "execution_count": 65,
      "outputs": [
        {
          "output_type": "stream",
          "name": "stdout",
          "text": [
            "Number of unique GO terms: 1995\n"
          ]
        }
      ]
    },
    {
      "cell_type": "code",
      "source": [
        "# 4. Prepare ESM and Static features\n",
        "go_columns = [col for col in filtered_labels_df.columns if col.startswith(\"GO:\")]\n",
        "go_labels = filtered_labels_df[go_columns]"
      ],
      "metadata": {
        "id": "7QaKCvvm1T2v"
      },
      "execution_count": 66,
      "outputs": []
    },
    {
      "cell_type": "code",
      "source": [
        "esm_features = pd.merge(esm_df, filtered_labels_df[\"ID\"], on=\"ID\").drop(columns=[\"ID\"])\n",
        "static_features = pd.merge(static_df, filtered_labels_df[\"ID\"], on=\"ID\").drop(columns=[\"ID\"])\n"
      ],
      "metadata": {
        "id": "WswIZzos1YKx"
      },
      "execution_count": 67,
      "outputs": []
    },
    {
      "cell_type": "code",
      "source": [
        "# 5. Data Splitting and DataLoader Creation\n",
        "X_esm_train, X_esm_test, _, _ = train_test_split(esm_features, go_labels, test_size=0.2, random_state=42)\n",
        "X_static_train, X_static_test, Y_train, Y_test = train_test_split(static_features, go_labels, test_size=0.2, random_state=42)\n",
        "\n",
        "X_esm_train_tensor = torch.tensor(X_esm_train.values, dtype=torch.float32)\n",
        "X_static_train_tensor = torch.tensor(X_static_train.values, dtype=torch.float32)\n",
        "Y_train_tensor = torch.tensor(Y_train.values, dtype=torch.float32)\n",
        "\n",
        "X_esm_test_tensor = torch.tensor(X_esm_test.values, dtype=torch.float32)\n",
        "X_static_test_tensor = torch.tensor(X_static_test.values, dtype=torch.float32)\n",
        "Y_test_tensor = torch.tensor(Y_test.values, dtype=torch.float32)\n",
        "\n",
        "train_dataset = TensorDataset(X_esm_train_tensor, X_static_train_tensor, Y_train_tensor)\n",
        "val_dataset = TensorDataset(X_esm_test_tensor, X_static_test_tensor, Y_test_tensor)\n",
        "\n",
        "train_loader = DataLoader(train_dataset, batch_size=32, shuffle=True)\n",
        "val_loader = DataLoader(val_dataset, batch_size=32)\n"
      ],
      "metadata": {
        "id": "F8lsHx2L1cwq"
      },
      "execution_count": 68,
      "outputs": []
    },
    {
      "cell_type": "code",
      "source": [
        "# 6. Model Instantiation and Training\n",
        "esm_input_size = X_esm_train.shape[1]\n",
        "static_input_size = X_static_train.shape[1]\n",
        "hidden_size = 1024\n",
        "output_size = Y_train.shape[1]"
      ],
      "metadata": {
        "id": "3w2XO2Tf1fr_"
      },
      "execution_count": 69,
      "outputs": []
    },
    {
      "cell_type": "code",
      "source": [
        "\n",
        "# Instantiate the model from the imported class\n",
        "model = MultiInputNet(esm_input_size, static_input_size, hidden_size, output_size)\n",
        "print(model)"
      ],
      "metadata": {
        "id": "oGGjwZ5t1i0S",
        "outputId": "af86e61d-077d-4a66-8f7c-5078d0df44dc",
        "colab": {
          "base_uri": "https://localhost:8080/"
        }
      },
      "execution_count": 70,
      "outputs": [
        {
          "output_type": "stream",
          "name": "stdout",
          "text": [
            "MultiInputNet(\n",
            "  (esm_branch): Sequential(\n",
            "    (0): Linear(in_features=1280, out_features=1024, bias=True)\n",
            "    (1): BatchNorm1d(1024, eps=1e-05, momentum=0.1, affine=True, track_running_stats=True)\n",
            "    (2): ReLU()\n",
            "    (3): Dropout(p=0.3, inplace=False)\n",
            "  )\n",
            "  (static_branch): Sequential(\n",
            "    (0): Linear(in_features=18, out_features=512, bias=True)\n",
            "    (1): BatchNorm1d(512, eps=1e-05, momentum=0.1, affine=True, track_running_stats=True)\n",
            "    (2): ReLU()\n",
            "    (3): Dropout(p=0.3, inplace=False)\n",
            "  )\n",
            "  (classifier): Sequential(\n",
            "    (0): Linear(in_features=1536, out_features=2, bias=True)\n",
            "  )\n",
            ")\n"
          ]
        }
      ]
    },
    {
      "cell_type": "code",
      "source": [
        "from model_multi_input import train_model_multi_input"
      ],
      "metadata": {
        "id": "LD0hHagX2IpM"
      },
      "execution_count": 71,
      "outputs": []
    },
    {
      "cell_type": "code",
      "source": [
        "# Run the training\n",
        "# Note: You must update train_MLP.py to handle two inputs, as shown previously\n",
        "train_model_multi_input(model, train_loader, val_loader, epochs=90, lr=0.001, threshold=0.3)"
      ],
      "metadata": {
        "id": "VFINxpuG1mml",
        "outputId": "4aee7156-230d-4aa1-e47d-16b201493d35",
        "colab": {
          "base_uri": "https://localhost:8080/"
        }
      },
      "execution_count": 72,
      "outputs": [
        {
          "output_type": "stream",
          "name": "stdout",
          "text": [
            "Calculating class weights...\n",
            "Epoch 1/90, Loss: 1.1824, Validation Macro F1: 0.3631, Validation Micro F1: 0.4138\n",
            "Epoch 2/90, Loss: 0.6084, Validation Macro F1: 0.3500, Validation Micro F1: 0.3404\n",
            "Epoch 3/90, Loss: 0.5350, Validation Macro F1: 0.3577, Validation Micro F1: 0.3469\n",
            "Epoch 4/90, Loss: 0.4807, Validation Macro F1: 0.3926, Validation Micro F1: 0.3736\n",
            "Epoch 5/90, Loss: 0.4073, Validation Macro F1: 0.3959, Validation Micro F1: 0.3765\n",
            "Epoch 6/90, Loss: 0.3599, Validation Macro F1: 0.5111, Validation Micro F1: 0.5079\n",
            "Epoch 7/90, Loss: 0.3590, Validation Macro F1: 0.5595, Validation Micro F1: 0.5769\n",
            "Epoch 8/90, Loss: 0.3060, Validation Macro F1: 0.5357, Validation Micro F1: 0.5357\n",
            "Epoch 9/90, Loss: 0.2727, Validation Macro F1: 0.6179, Validation Micro F1: 0.6522\n",
            "Epoch 10/90, Loss: 0.2494, Validation Macro F1: 0.6453, Validation Micro F1: 0.6818\n",
            "Epoch 11/90, Loss: 0.2511, Validation Macro F1: 0.6753, Validation Micro F1: 0.7143\n",
            "Epoch 12/90, Loss: 0.2110, Validation Macro F1: 0.5793, Validation Micro F1: 0.6122\n",
            "Epoch 13/90, Loss: 0.2319, Validation Macro F1: 0.5929, Validation Micro F1: 0.6512\n",
            "Epoch 14/90, Loss: 0.2355, Validation Macro F1: 0.5804, Validation Micro F1: 0.6364\n",
            "Epoch 15/90, Loss: 0.2644, Validation Macro F1: 0.6583, Validation Micro F1: 0.6818\n",
            "Epoch 16/90, Loss: 0.1821, Validation Macro F1: 0.6488, Validation Micro F1: 0.6667\n",
            "Epoch 17/90, Loss: 0.1905, Validation Macro F1: 0.6753, Validation Micro F1: 0.7143\n",
            "Epoch 18/90, Loss: 0.2046, Validation Macro F1: 0.6584, Validation Micro F1: 0.6977\n",
            "Epoch 19/90, Loss: 0.1433, Validation Macro F1: 0.6282, Validation Micro F1: 0.6667\n",
            "Epoch 20/90, Loss: 0.1782, Validation Macro F1: 0.6067, Validation Micro F1: 0.6512\n",
            "Epoch 21/90, Loss: 0.1409, Validation Macro F1: 0.6458, Validation Micro F1: 0.7000\n",
            "Early stopping triggered after 21 epochs due to no improvement in Macro F1.\n"
          ]
        }
      ]
    },
    {
      "cell_type": "markdown",
      "source": [
        "## Loading Data"
      ],
      "metadata": {
        "id": "8Cj6B3_gazDm"
      }
    },
    {
      "cell_type": "markdown",
      "source": [
        "## Encoding multi-hot labels"
      ],
      "metadata": {
        "id": "2CHFTH98a6NY"
      }
    },
    {
      "cell_type": "markdown",
      "source": [
        "## Merge sequence embedding and labels in one file"
      ],
      "metadata": {
        "id": "aAyx6yDkbCut"
      }
    },
    {
      "cell_type": "code",
      "source": [],
      "metadata": {
        "id": "iGH3qi6gna4C"
      },
      "execution_count": 72,
      "outputs": []
    }
  ]
}