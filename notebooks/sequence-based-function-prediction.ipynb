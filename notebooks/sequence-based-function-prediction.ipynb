{
  "nbformat": 4,
  "nbformat_minor": 0,
  "metadata": {
    "colab": {
      "provenance": [],
      "authorship_tag": "ABX9TyMB/b4o+8InME16tvGpljf6",
      "include_colab_link": true
    },
    "kernelspec": {
      "name": "python3",
      "display_name": "Python 3"
    },
    "language_info": {
      "name": "python"
    }
  },
  "cells": [
    {
      "cell_type": "markdown",
      "metadata": {
        "id": "view-in-github",
        "colab_type": "text"
      },
      "source": [
        "<a href=\"https://colab.research.google.com/github/inshra12/ESM-MLP-baseline-protein-function/blob/main/notebooks/sequence-based-function-prediction.ipynb\" target=\"_parent\"><img src=\"https://colab.research.google.com/assets/colab-badge.svg\" alt=\"Open In Colab\"/></a>"
      ]
    },
    {
      "cell_type": "code",
      "execution_count": 1,
      "metadata": {
        "id": "_hVsdi7Vy1h4"
      },
      "outputs": [],
      "source": [
        "from data_loader import load_data,split_data,encode_labels"
      ]
    },
    {
      "cell_type": "code",
      "source": [
        "!pip install fair-esm"
      ],
      "metadata": {
        "id": "yeb11qFAlA7_",
        "outputId": "a4168fc6-f0f9-4416-ac0b-5d419531b066",
        "colab": {
          "base_uri": "https://localhost:8080/"
        }
      },
      "execution_count": 21,
      "outputs": [
        {
          "output_type": "stream",
          "name": "stdout",
          "text": [
            "Collecting fair-esm\n",
            "  Downloading fair_esm-2.0.0-py3-none-any.whl.metadata (37 kB)\n",
            "Downloading fair_esm-2.0.0-py3-none-any.whl (93 kB)\n",
            "\u001b[?25l   \u001b[90m━━━━━━━━━━━━━━━━━━━━━━━━━━━━━━━━━━━━━━━━\u001b[0m \u001b[32m0.0/93.1 kB\u001b[0m \u001b[31m?\u001b[0m eta \u001b[36m-:--:--\u001b[0m\r\u001b[2K   \u001b[90m━━━━━━━━━━━━━━━━━━━━━━━━━━━━━━━━━━━━━━━━\u001b[0m \u001b[32m93.1/93.1 kB\u001b[0m \u001b[31m4.8 MB/s\u001b[0m eta \u001b[36m0:00:00\u001b[0m\n",
            "\u001b[?25hInstalling collected packages: fair-esm\n",
            "Successfully installed fair-esm-2.0.0\n"
          ]
        }
      ]
    },
    {
      "cell_type": "code",
      "source": [
        "from esm_embedder import save_embeddings"
      ],
      "metadata": {
        "id": "7fNxSU2skny5"
      },
      "execution_count": 22,
      "outputs": []
    },
    {
      "cell_type": "code",
      "source": [
        "df=load_data(\"/content/raw_sequence_data.csv\")"
      ],
      "metadata": {
        "collapsed": true,
        "id": "ICqmZsXuegTM",
        "outputId": "77752568-94bf-40b7-ed37-8189bad484e6",
        "colab": {
          "base_uri": "https://localhost:8080/"
        }
      },
      "execution_count": 2,
      "outputs": [
        {
          "output_type": "stream",
          "name": "stdout",
          "text": [
            "First protein entry:\n",
            " ID                                                     P14416\n",
            "Sequence    MDPLNLSWYDDDLERQNWSRPFNGSDGKADRPHYNYYATLLTLLIA...\n",
            "MF          GO:0035240;GO:0001591;GO:0004930; GO:0001965;G...\n",
            "CC          GO:0001669; GO:0030424; GO:0043679; GO:0060170...\n",
            "BP          GO:0046717; GO:0021984; GO:0007195; GO:0007628...\n",
            "Labels      [ GO:0046676,  GO:0042417,  GO:0033602,  GO:00...\n",
            "Name: 0, dtype: object\n"
          ]
        }
      ]
    },
    {
      "cell_type": "code",
      "source": [
        "train_df, test_df = split_data(df)"
      ],
      "metadata": {
        "id": "jORMobXcem51"
      },
      "execution_count": 19,
      "outputs": []
    },
    {
      "cell_type": "code",
      "source": [
        "# Encode the training labels\n",
        "y_train, mlb = encode_labels(train_df['Labels'])"
      ],
      "metadata": {
        "id": "jAW9sb_KezWA"
      },
      "execution_count": 11,
      "outputs": []
    },
    {
      "cell_type": "code",
      "source": [
        "# Encode test labels (important: use the same `mlb`)\n",
        "y_test= mlb.transform(test_df['Labels'])"
      ],
      "metadata": {
        "collapsed": true,
        "id": "8_GeDAAAe1mF",
        "outputId": "1610dd89-3330-45e7-e40e-a73e0c0d0d69",
        "colab": {
          "base_uri": "https://localhost:8080/"
        }
      },
      "execution_count": 12,
      "outputs": [
        {
          "output_type": "stream",
          "name": "stderr",
          "text": [
            "/usr/local/lib/python3.11/dist-packages/sklearn/preprocessing/_label.py:909: UserWarning: unknown class(es) [' GO:0000139', ' GO:0001540', ' GO:0001755', ' GO:0001819', ' GO:0001938', ' GO:0001976', ' GO:0002024', ' GO:0002025', ' GO:0002027', ' GO:0002028', ' GO:0002052', ' GO:0002092', ' GO:0003007', ' GO:0003063', ' GO:0003300', ' GO:0004941', ' GO:0005096', ' GO:0005634', ' GO:0005789', ' GO:0005794', ' GO:0005929', ' GO:0006366', ' GO:0006914', ' GO:0006939', ' GO:0006940', ' GO:0007207', ' GO:0007270', ' GO:0007405', ' GO:0007409', ' GO:0007416', ' GO:0007608', ' GO:0007616', ' GO:0007625', ' GO:0007628', ' GO:0008104', ' GO:0008306', ' GO:0009409', ' GO:0009416', ' GO:0009636', ' GO:0009925', ' GO:0010008', ' GO:0010039', ' GO:0014033', ' GO:0014827', ' GO:0014854', ' GO:0015459', ' GO:0015630', ' GO:0016055', ' GO:0016323', ' GO:0016328', ' GO:0016907', ' GO:0019934', ' GO:0021756', ' GO:0021769', ' GO:0021853', ' GO:0021984', ' GO:0030139', ' GO:0030336', ' GO:0030424', ' GO:0030432', ' GO:0030501', ' GO:0030669', ' GO:0031223', ' GO:0031649', ' GO:0031789', ' GO:0032024', ' GO:0032228', ' GO:0032355', ' GO:0032795', ' GO:0033602', ' GO:0035305', ' GO:0035556', ' GO:0035815', ' GO:0036064', ' GO:0036126', ' GO:0040015', ' GO:0040018', ' GO:0042321', ' GO:0042756', ' GO:0042803', ' GO:0043066', ' GO:0043123', ' GO:0043197', ' GO:0043235', ' GO:0043410', ' GO:0043473', ' GO:0043491', ' GO:0043679', ' GO:0045171', ' GO:0045453', ' GO:0045744', ' GO:0045745', ' GO:0045824', ' GO:0045944', ' GO:0045986', ' GO:0045987', ' GO:0046541', ' GO:0046676', ' GO:0048149', ' GO:0048169', ' GO:0048598', ' GO:0048678', ' GO:0048755', ' GO:0050673', ' GO:0050680', ' GO:0050873', ' GO:0050997', ' GO:0051380', ' GO:0051583', ' GO:0051586', ' GO:0051781', ' GO:0051823', ' GO:0060124', ' GO:0060160', ' GO:0060170', ' GO:0061885', ' GO:0070371', ' GO:0071300', ' GO:0071361', ' GO:0071875', ' GO:0072686', ' GO:0090325', ' GO:0097648', ' GO:0097730', ' GO:0098691', ' GO:0098839', ' GO:0098990', ' GO:0098992', ' GO:0099170', ' GO:0141163', ' GO:1900038', ' GO:1900168', ' GO:1901098', ' GO:1904504', ' GO:1904695', ' GO:1905144', ' GO:1990384', ' GO:1990806', ' GO:1990911', ' GO:2001223', 'GO:0001669', 'GO:0008179', 'GO:0015459', 'GO:0016324', 'GO:0019722', 'GO:0035240', 'GO:0035255', 'GO:0042166', 'GO:0042802', 'GO:0071880', 'GO:0095500', 'GO:1901363'] will be ignored\n",
            "  warnings.warn(\n"
          ]
        }
      ]
    },
    {
      "cell_type": "code",
      "source": [
        "import pandas as pd\n",
        "# Convert the binary matrix to a DataFrame for readability\n",
        "encoded_df = pd.DataFrame(y_train, columns=mlb.classes_)\n",
        "\n",
        "# Show the first few rows\n",
        "print(encoded_df.head())"
      ],
      "metadata": {
        "collapsed": true,
        "id": "d7MSEGkpe4gt",
        "outputId": "415bf44a-c7c6-4063-fc35-d57cef65bc7d",
        "colab": {
          "base_uri": "https://localhost:8080/"
        }
      },
      "execution_count": 13,
      "outputs": [
        {
          "output_type": "stream",
          "name": "stdout",
          "text": [
            "    GO:0000165   GO:0001586   GO:0001587  ...  GO:0070161  GO:0071420  GO:0071886\n",
            "0            0            0            0  ...           0           0           0\n",
            "1            0            0            0  ...           0           0           0\n",
            "2            1            0            0  ...           0           0           0\n",
            "3            0            0            0  ...           0           1           0\n",
            "4            0            0            0  ...           0           0           0\n",
            "\n",
            "[5 rows x 376 columns]\n"
          ]
        }
      ]
    },
    {
      "cell_type": "code",
      "source": [
        "save_embeddings(\"/content/raw_sequence_data.csv\", \"cls_embeddings.csv\")"
      ],
      "metadata": {
        "id": "dkPwe2vIe8H2",
        "outputId": "ca5fd19c-190b-46f1-a818-1b67abe960a8",
        "colab": {
          "base_uri": "https://localhost:8080/"
        }
      },
      "execution_count": 25,
      "outputs": [
        {
          "output_type": "stream",
          "name": "stdout",
          "text": [
            "Extracting embeddings for 20 proteins...\n"
          ]
        },
        {
          "output_type": "stream",
          "name": "stderr",
          "text": [
            "100%|██████████| 20/20 [04:17<00:00, 12.86s/it]\n"
          ]
        },
        {
          "output_type": "stream",
          "name": "stdout",
          "text": [
            "Saved CLS embeddings to: cls_embeddings.csv\n"
          ]
        }
      ]
    },
    {
      "cell_type": "code",
      "source": [],
      "metadata": {
        "id": "MzN_coaAlL-f"
      },
      "execution_count": null,
      "outputs": []
    }
  ]
}