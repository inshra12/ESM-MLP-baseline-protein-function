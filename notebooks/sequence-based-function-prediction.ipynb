{
  "nbformat": 4,
  "nbformat_minor": 0,
  "metadata": {
    "colab": {
      "provenance": [],
      "authorship_tag": "ABX9TyPQks8KizSpXpnQpxEdbOhr",
      "include_colab_link": true
    },
    "kernelspec": {
      "name": "python3",
      "display_name": "Python 3"
    },
    "language_info": {
      "name": "python"
    }
  },
  "cells": [
    {
      "cell_type": "markdown",
      "metadata": {
        "id": "view-in-github",
        "colab_type": "text"
      },
      "source": [
        "<a href=\"https://colab.research.google.com/github/inshra12/ESM-MLP-baseline-protein-function/blob/main/notebooks/sequence-based-function-prediction.ipynb\" target=\"_parent\"><img src=\"https://colab.research.google.com/assets/colab-badge.svg\" alt=\"Open In Colab\"/></a>"
      ]
    },
    {
      "cell_type": "code",
      "execution_count": 1,
      "metadata": {
        "id": "_hVsdi7Vy1h4"
      },
      "outputs": [],
      "source": [
        "from data_loader import load_data,encode_labels"
      ]
    },
    {
      "cell_type": "code",
      "source": [
        "!pip install fair-esm"
      ],
      "metadata": {
        "id": "yeb11qFAlA7_",
        "outputId": "d49c7686-4ff5-4b82-9cee-55b81a37f207",
        "colab": {
          "base_uri": "https://localhost:8080/"
        }
      },
      "execution_count": 2,
      "outputs": [
        {
          "output_type": "stream",
          "name": "stdout",
          "text": [
            "Collecting fair-esm\n",
            "  Downloading fair_esm-2.0.0-py3-none-any.whl.metadata (37 kB)\n",
            "Downloading fair_esm-2.0.0-py3-none-any.whl (93 kB)\n",
            "\u001b[2K   \u001b[90m━━━━━━━━━━━━━━━━━━━━━━━━━━━━━━━━━━━━━━━━\u001b[0m \u001b[32m93.1/93.1 kB\u001b[0m \u001b[31m751.8 kB/s\u001b[0m eta \u001b[36m0:00:00\u001b[0m\n",
            "\u001b[?25hInstalling collected packages: fair-esm\n",
            "Successfully installed fair-esm-2.0.0\n"
          ]
        }
      ]
    },
    {
      "cell_type": "code",
      "source": [
        "from esm_embedder import save_embeddings"
      ],
      "metadata": {
        "id": "7fNxSU2skny5"
      },
      "execution_count": 3,
      "outputs": []
    },
    {
      "cell_type": "code",
      "source": [
        "df=load_data(\"/content/raw_sequence_data.csv\")"
      ],
      "metadata": {
        "collapsed": true,
        "id": "ICqmZsXuegTM",
        "outputId": "dd86beab-2e7d-4f89-90fb-a84e6d9086ec",
        "colab": {
          "base_uri": "https://localhost:8080/"
        }
      },
      "execution_count": 4,
      "outputs": [
        {
          "output_type": "stream",
          "name": "stdout",
          "text": [
            "First protein entry:\n",
            " ID                                                     P14416\n",
            "Sequence    MDPLNLSWYDDDLERQNWSRPFNGSDGKADRPHYNYYATLLTLLIA...\n",
            "MF          GO:0035240;GO:0001591;GO:0004930; GO:0001965;G...\n",
            "CC          GO:0001669; GO:0030424; GO:0043679; GO:0060170...\n",
            "BP          GO:0046717; GO:0021984; GO:0007195; GO:0007628...\n",
            "Labels      [ GO:0045745,  GO:0043679, GO:0046717,  GO:009...\n",
            "Name: 0, dtype: object\n"
          ]
        }
      ]
    },
    {
      "cell_type": "code",
      "source": [
        "train_df, test_df = split_data(df)"
      ],
      "metadata": {
        "id": "jORMobXcem51"
      },
      "execution_count": 5,
      "outputs": []
    },
    {
      "cell_type": "code",
      "source": [
        "# Encode the training labels\n",
        "y_train, mlb = encode_labels(train_df['Labels'])"
      ],
      "metadata": {
        "id": "jAW9sb_KezWA"
      },
      "execution_count": 6,
      "outputs": []
    },
    {
      "cell_type": "code",
      "source": [
        "# Encode test labels (important: use the same `mlb`)\n",
        "y_test= mlb.transform(test_df['Labels'])"
      ],
      "metadata": {
        "collapsed": true,
        "id": "8_GeDAAAe1mF",
        "outputId": "c63a0290-a917-440a-f14f-071512ee58af",
        "colab": {
          "base_uri": "https://localhost:8080/"
        }
      },
      "execution_count": 7,
      "outputs": [
        {
          "output_type": "stream",
          "name": "stderr",
          "text": [
            "/usr/local/lib/python3.11/dist-packages/sklearn/preprocessing/_label.py:909: UserWarning: unknown class(es) [' GO:0000139', ' GO:0001540', ' GO:0001755', ' GO:0001819', ' GO:0001938', ' GO:0001976', ' GO:0002024', ' GO:0002025', ' GO:0002027', ' GO:0002028', ' GO:0002052', ' GO:0002092', ' GO:0003007', ' GO:0003063', ' GO:0003300', ' GO:0004941', ' GO:0005096', ' GO:0005634', ' GO:0005789', ' GO:0005794', ' GO:0005929', ' GO:0006366', ' GO:0006914', ' GO:0006939', ' GO:0006940', ' GO:0007207', ' GO:0007270', ' GO:0007405', ' GO:0007409', ' GO:0007416', ' GO:0007608', ' GO:0007616', ' GO:0007625', ' GO:0007628', ' GO:0008104', ' GO:0008306', ' GO:0009409', ' GO:0009416', ' GO:0009636', ' GO:0009925', ' GO:0010008', ' GO:0010039', ' GO:0014033', ' GO:0014827', ' GO:0014854', ' GO:0015459', ' GO:0015630', ' GO:0016055', ' GO:0016323', ' GO:0016328', ' GO:0016907', ' GO:0019934', ' GO:0021756', ' GO:0021769', ' GO:0021853', ' GO:0021984', ' GO:0030139', ' GO:0030336', ' GO:0030424', ' GO:0030432', ' GO:0030501', ' GO:0030669', ' GO:0031223', ' GO:0031649', ' GO:0031789', ' GO:0032024', ' GO:0032228', ' GO:0032355', ' GO:0032795', ' GO:0033602', ' GO:0035305', ' GO:0035556', ' GO:0035815', ' GO:0036064', ' GO:0036126', ' GO:0040015', ' GO:0040018', ' GO:0042321', ' GO:0042756', ' GO:0042803', ' GO:0043066', ' GO:0043123', ' GO:0043197', ' GO:0043235', ' GO:0043410', ' GO:0043473', ' GO:0043491', ' GO:0043679', ' GO:0045171', ' GO:0045453', ' GO:0045744', ' GO:0045745', ' GO:0045824', ' GO:0045944', ' GO:0045986', ' GO:0045987', ' GO:0046541', ' GO:0046676', ' GO:0048149', ' GO:0048169', ' GO:0048598', ' GO:0048678', ' GO:0048755', ' GO:0050673', ' GO:0050680', ' GO:0050873', ' GO:0050997', ' GO:0051380', ' GO:0051583', ' GO:0051586', ' GO:0051781', ' GO:0051823', ' GO:0060124', ' GO:0060160', ' GO:0060170', ' GO:0061885', ' GO:0070371', ' GO:0071300', ' GO:0071361', ' GO:0071875', ' GO:0072686', ' GO:0090325', ' GO:0097648', ' GO:0097730', ' GO:0098691', ' GO:0098839', ' GO:0098990', ' GO:0098992', ' GO:0099170', ' GO:0141163', ' GO:1900038', ' GO:1900168', ' GO:1901098', ' GO:1904504', ' GO:1904695', ' GO:1905144', ' GO:1990384', ' GO:1990806', ' GO:1990911', ' GO:2001223', 'GO:0001669', 'GO:0008179', 'GO:0015459', 'GO:0016324', 'GO:0019722', 'GO:0035240', 'GO:0035255', 'GO:0042166', 'GO:0042802', 'GO:0071880', 'GO:0095500', 'GO:1901363'] will be ignored\n",
            "  warnings.warn(\n"
          ]
        }
      ]
    },
    {
      "cell_type": "code",
      "source": [
        "import pandas as pd\n",
        "# Convert encoded labels to DataFrames with proper column names\n",
        "train_labels_df = pd.DataFrame(y_train, columns=mlb.classes_)\n",
        "train_labels_df.insert(0, \"ID\", train_df[\"ID\"])  # Insert IDs as first column\n",
        "\n",
        "test_labels_df = pd.DataFrame(y_test, columns=mlb.classes_)\n",
        "test_labels_df.insert(0, \"ID\", test_df[\"ID\"])\n"
      ],
      "metadata": {
        "id": "Uu8K7laSw96P"
      },
      "execution_count": 9,
      "outputs": []
    },
    {
      "cell_type": "code",
      "source": [
        "# Save to CSV\n",
        "train_labels_df.to_csv(\"train_encoded_labels.csv\", index=False)\n",
        "test_labels_df.to_csv(\"test_encoded_labels.csv\", index=False)\n",
        "\n",
        "print(\"✅ Saved encoded train and test labels to CSV.\")"
      ],
      "metadata": {
        "id": "BXXUAASNxdQv",
        "outputId": "df1e2c04-6ad2-4f06-97a0-6ab3fffeec99",
        "colab": {
          "base_uri": "https://localhost:8080/"
        }
      },
      "execution_count": 12,
      "outputs": [
        {
          "output_type": "stream",
          "name": "stdout",
          "text": [
            "✅ Saved encoded train and test labels to CSV.\n"
          ]
        }
      ]
    },
    {
      "cell_type": "code",
      "source": [
        "\n",
        "# Convert the binary matrix to a DataFrame for readability\n",
        "#encoded_df = pd.DataFrame(y_train, columns=mlb.classes_)\n",
        "\n",
        "# Show the first few rows\n",
        "#print(encoded_df.head())"
      ],
      "metadata": {
        "collapsed": true,
        "id": "d7MSEGkpe4gt"
      },
      "execution_count": null,
      "outputs": []
    },
    {
      "cell_type": "code",
      "source": [
        "#save_embeddings(\"/content/raw_sequence_data.csv\", \"cls_embeddings.csv\")"
      ],
      "metadata": {
        "id": "dkPwe2vIe8H2"
      },
      "execution_count": null,
      "outputs": []
    },
    {
      "cell_type": "code",
      "source": [],
      "metadata": {
        "id": "MzN_coaAlL-f"
      },
      "execution_count": null,
      "outputs": []
    }
  ]
}