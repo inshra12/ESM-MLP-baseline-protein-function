{
  "nbformat": 4,
  "nbformat_minor": 0,
  "metadata": {
    "colab": {
      "provenance": [],
      "gpuType": "T4",
      "authorship_tag": "ABX9TyPWcuvmqnwyMa73Jh2/f12Z",
      "include_colab_link": true
    },
    "kernelspec": {
      "name": "python3",
      "display_name": "Python 3"
    },
    "language_info": {
      "name": "python"
    },
    "accelerator": "GPU"
  },
  "cells": [
    {
      "cell_type": "markdown",
      "metadata": {
        "id": "view-in-github",
        "colab_type": "text"
      },
      "source": [
        "<a href=\"https://colab.research.google.com/github/inshra12/ESM-MLP-baseline-protein-function/blob/main/notebooks/sequence-based-function-prediction.ipynb\" target=\"_parent\"><img src=\"https://colab.research.google.com/assets/colab-badge.svg\" alt=\"Open In Colab\"/></a>"
      ]
    },
    {
      "cell_type": "markdown",
      "source": [
        "# Model 1"
      ],
      "metadata": {
        "id": "qrJzqgBkamKO"
      }
    },
    {
      "cell_type": "markdown",
      "source": [
        "## Importing files"
      ],
      "metadata": {
        "id": "lynOt408aqws"
      }
    },
    {
      "cell_type": "code",
      "execution_count": 35,
      "metadata": {
        "id": "_hVsdi7Vy1h4"
      },
      "outputs": [],
      "source": [
        "from data_loader import load_data,encode_labels"
      ]
    },
    {
      "cell_type": "code",
      "source": [
        "!pip install fair-esm"
      ],
      "metadata": {
        "id": "yeb11qFAlA7_",
        "outputId": "6634b858-7833-427f-f2ae-e49ea8e5329d",
        "colab": {
          "base_uri": "https://localhost:8080/"
        }
      },
      "execution_count": 36,
      "outputs": [
        {
          "output_type": "stream",
          "name": "stdout",
          "text": [
            "Requirement already satisfied: fair-esm in /usr/local/lib/python3.11/dist-packages (2.0.0)\n"
          ]
        }
      ]
    },
    {
      "cell_type": "code",
      "source": [
        "from esm_embedder import save_embeddings"
      ],
      "metadata": {
        "id": "7fNxSU2skny5"
      },
      "execution_count": 37,
      "outputs": []
    },
    {
      "cell_type": "markdown",
      "source": [
        "## Loading Data"
      ],
      "metadata": {
        "id": "8Cj6B3_gazDm"
      }
    },
    {
      "cell_type": "code",
      "source": [
        "df=load_data(\"/content/raw_sequence_data.csv\")"
      ],
      "metadata": {
        "collapsed": true,
        "id": "ICqmZsXuegTM",
        "outputId": "3e47f085-d955-4e11-c420-47d4c28951cb",
        "colab": {
          "base_uri": "https://localhost:8080/"
        }
      },
      "execution_count": 38,
      "outputs": [
        {
          "output_type": "stream",
          "name": "stdout",
          "text": [
            "First protein entry:\n",
            " ID                                                     P14416\n",
            "Sequence    MDPLNLSWYDDDLERQNWSRPFNGSDGKADRPHYNYYATLLTLLIA...\n",
            "MF          GO:0035240;GO:0001591;GO:0004930; GO:0001965;G...\n",
            "CC          GO:0001669; GO:0030424; GO:0043679; GO:0060170...\n",
            "BP          GO:0046717; GO:0021984; GO:0007195; GO:0007628...\n",
            "Labels      [ GO:0043679,  GO:0001975,  GO:0032228,  GO:00...\n",
            "Name: 0, dtype: object\n"
          ]
        }
      ]
    },
    {
      "cell_type": "code",
      "source": [
        "#save_embeddings(\"/content/raw_sequence_data.csv\", \"cls_embeddings.csv\")"
      ],
      "metadata": {
        "id": "jAW9sb_KezWA"
      },
      "execution_count": 39,
      "outputs": []
    },
    {
      "cell_type": "code",
      "source": [
        "import pandas as pd\n",
        "# Load ESM embeddings (previously extracted)\n",
        "esm_df = pd.read_csv(\"/content/cls_embeddings.csv\")  # must have column 'ID'"
      ],
      "metadata": {
        "collapsed": true,
        "id": "8_GeDAAAe1mF"
      },
      "execution_count": 40,
      "outputs": []
    },
    {
      "cell_type": "markdown",
      "source": [
        "## Encoding multi-hot labels"
      ],
      "metadata": {
        "id": "2CHFTH98a6NY"
      }
    },
    {
      "cell_type": "code",
      "source": [
        "encoded_labels, mlb = encode_labels(df[\"Labels\"])"
      ],
      "metadata": {
        "id": "fYE3kYERUK7x",
        "outputId": "4dc9f38a-89bc-4b93-d17c-09919ac7a5ba",
        "colab": {
          "base_uri": "https://localhost:8080/"
        }
      },
      "execution_count": 41,
      "outputs": [
        {
          "output_type": "stream",
          "name": "stdout",
          "text": [
            "Number of unique GO terms: 528\n"
          ]
        }
      ]
    },
    {
      "cell_type": "code",
      "source": [
        "# Step 2: Convert encoded labels into a DataFrame\n",
        "encoded_labels_df = pd.DataFrame(encoded_labels, columns=mlb.classes_)\n",
        "encoded_labels_df[\"ID\"] = df[\"ID\"].values  # Add ID for merging"
      ],
      "metadata": {
        "id": "dx9upzlOUNJX"
      },
      "execution_count": 42,
      "outputs": []
    },
    {
      "cell_type": "markdown",
      "source": [
        "## Merge sequence embedding and labels in one file"
      ],
      "metadata": {
        "id": "aAyx6yDkbCut"
      }
    },
    {
      "cell_type": "code",
      "source": [
        "# Step 3: Merge ESM embeddings (esm_df) with labels\n",
        "final_df = pd.merge(esm_df, encoded_labels_df, on=\"ID\")"
      ],
      "metadata": {
        "id": "bTRhWuboUQOc"
      },
      "execution_count": 43,
      "outputs": []
    },
    {
      "cell_type": "code",
      "source": [
        "# Move \"ID\" column to the front\n",
        "cols = list(final_df.columns)\n",
        "cols.remove(\"ID\")\n",
        "new_order = [\"ID\"] + cols\n",
        "final_df = final_df[new_order]\n"
      ],
      "metadata": {
        "id": "sPulxk5hZE4d"
      },
      "execution_count": 44,
      "outputs": []
    },
    {
      "cell_type": "code",
      "source": [],
      "metadata": {
        "id": "yUc-Lrgwn0G-"
      },
      "execution_count": 44,
      "outputs": []
    },
    {
      "cell_type": "code",
      "source": [
        "# Step 4: Save final_df to CSV\n",
        "final_df.to_csv(\"esm_with_multihot_labels.csv\", index=False)\n",
        "print(\"Saved: esm_with_multihot_labels.csv\")"
      ],
      "metadata": {
        "id": "VGM5Rj1vUTur",
        "outputId": "af6ead3f-2054-4ad7-94e0-40ceafd8233c",
        "colab": {
          "base_uri": "https://localhost:8080/"
        }
      },
      "execution_count": 45,
      "outputs": [
        {
          "output_type": "stream",
          "name": "stdout",
          "text": [
            "Saved: esm_with_multihot_labels.csv\n"
          ]
        }
      ]
    },
    {
      "cell_type": "markdown",
      "source": [
        "## Splitting Column in X(Sequence) and Y(labels)"
      ],
      "metadata": {
        "id": "zednHKrqcWU0"
      }
    },
    {
      "cell_type": "code",
      "source": [
        "# Get all column names\n",
        "all_columns = final_df.columns\n",
        "\n",
        "# GO columns start from index 1281 onwards\n",
        "go_columns = all_columns[1281:]\n",
        "\n",
        "# Now define X and Y\n",
        "X = final_df.drop(columns=[\"ID\"] + list(go_columns))  # Features (1280 ESM cols)\n",
        "Y = final_df[list(go_columns)]                        # Labels (GO terms)\n"
      ],
      "metadata": {
        "id": "o433fazCbbki"
      },
      "execution_count": 46,
      "outputs": []
    },
    {
      "cell_type": "code",
      "source": [
        "X.to_csv(\"X_esm.csv\", index=False)\n",
        "Y.to_csv(\"Y_go.csv\", index=False)"
      ],
      "metadata": {
        "id": "Gxacsb7vbctF"
      },
      "execution_count": 47,
      "outputs": []
    },
    {
      "cell_type": "code",
      "source": [
        "from sklearn.model_selection import train_test_split\n",
        "\n",
        "# Split the data\n",
        "X_train, X_test, Y_train, Y_test = train_test_split(X, Y, test_size=0.2, random_state=42)\n",
        "\n",
        "print(\"✅ Training samples:\", len(X_train))\n",
        "print(\"✅ Test samples:\", len(X_test))\n",
        "\n",
        "\n",
        "\n"
      ],
      "metadata": {
        "id": "rBVawjIpcGmv",
        "outputId": "c5c5dee8-283b-465c-a032-d87547e18b59",
        "colab": {
          "base_uri": "https://localhost:8080/"
        }
      },
      "execution_count": 48,
      "outputs": [
        {
          "output_type": "stream",
          "name": "stdout",
          "text": [
            "✅ Training samples: 16\n",
            "✅ Test samples: 4\n"
          ]
        }
      ]
    },
    {
      "cell_type": "code",
      "source": [
        "import torch\n",
        "from torch.utils.data import TensorDataset, DataLoader\n",
        "\n",
        "# Convert DataFrames to tensors\n",
        "X_train_tensor = torch.tensor(X_train.values, dtype=torch.float32)\n",
        "Y_train_tensor = torch.tensor(Y_train.values, dtype=torch.float32)\n",
        "X_test_tensor = torch.tensor(X_test.values, dtype=torch.float32)\n",
        "Y_test_tensor = torch.tensor(Y_test.values, dtype=torch.float32)\n",
        "\n",
        "# Create datasets\n",
        "train_dataset = TensorDataset(X_train_tensor, Y_train_tensor)\n",
        "val_dataset = TensorDataset(X_test_tensor, Y_test_tensor)\n",
        "\n",
        "# Create dataloaders\n",
        "train_loader = DataLoader(train_dataset, batch_size=32, shuffle=True)\n",
        "val_loader = DataLoader(val_dataset, batch_size=32)\n"
      ],
      "metadata": {
        "id": "Yi-ayjx5jt4f"
      },
      "execution_count": 49,
      "outputs": []
    },
    {
      "cell_type": "code",
      "source": [
        "from MLP_Model import build_mlp_model"
      ],
      "metadata": {
        "id": "kJZU7RkafyhB"
      },
      "execution_count": 50,
      "outputs": []
    },
    {
      "cell_type": "code",
      "source": [
        "# Define sizes\n",
        "input_size = 1280       # ESM embedding size\n",
        "hidden_size = 512       # You can adjust this\n",
        "output_size = 528       # Number of GO term labels"
      ],
      "metadata": {
        "id": "D9Gj95oGgdH2"
      },
      "execution_count": 51,
      "outputs": []
    },
    {
      "cell_type": "code",
      "source": [
        "# Build the model\n",
        "model = build_mlp_model(input_size, hidden_size, output_size)\n",
        "\n",
        "# Check summary\n",
        "print(model)"
      ],
      "metadata": {
        "id": "k8d98376g5xO",
        "outputId": "0735ef38-53b7-4d34-88d3-d2f1164fdf7d",
        "colab": {
          "base_uri": "https://localhost:8080/"
        }
      },
      "execution_count": 52,
      "outputs": [
        {
          "output_type": "stream",
          "name": "stdout",
          "text": [
            "Sequential(\n",
            "  (0): Linear(in_features=1280, out_features=512, bias=True)\n",
            "  (1): ReLU()\n",
            "  (2): Dropout(p=0.3, inplace=False)\n",
            "  (3): Linear(in_features=512, out_features=528, bias=True)\n",
            "  (4): Sigmoid()\n",
            ")\n"
          ]
        }
      ]
    },
    {
      "cell_type": "code",
      "source": [
        "from train_MLP import train_model,validate_model"
      ],
      "metadata": {
        "id": "3xXiIoeRkNPK"
      },
      "execution_count": 53,
      "outputs": []
    },
    {
      "cell_type": "code",
      "source": [
        "print(Y_train.shape[1])"
      ],
      "metadata": {
        "id": "67JeOOXimULb",
        "outputId": "5142639d-4b61-4903-d7eb-d9ecd926dd7e",
        "colab": {
          "base_uri": "https://localhost:8080/"
        }
      },
      "execution_count": 54,
      "outputs": [
        {
          "output_type": "stream",
          "name": "stdout",
          "text": [
            "528\n"
          ]
        }
      ]
    },
    {
      "cell_type": "code",
      "source": [
        "train_model(model, train_loader, val_loader, epochs=20, lr=0.001)"
      ],
      "metadata": {
        "id": "bkNCAKW6g8tb"
      },
      "execution_count": null,
      "outputs": []
    }
  ]
}