{
  "nbformat": 4,
  "nbformat_minor": 0,
  "metadata": {
    "colab": {
      "provenance": [],
      "authorship_tag": "ABX9TyNbY2rwH4gRaxjvyQFSlxW7",
      "include_colab_link": true
    },
    "kernelspec": {
      "name": "python3",
      "display_name": "Python 3"
    },
    "language_info": {
      "name": "python"
    }
  },
  "cells": [
    {
      "cell_type": "markdown",
      "metadata": {
        "id": "view-in-github",
        "colab_type": "text"
      },
      "source": [
        "<a href=\"https://colab.research.google.com/github/inshra12/ESM-MLP-baseline-protein-function/blob/main/notebooks/sequence-based-function-prediction.ipynb\" target=\"_parent\"><img src=\"https://colab.research.google.com/assets/colab-badge.svg\" alt=\"Open In Colab\"/></a>"
      ]
    },
    {
      "cell_type": "markdown",
      "source": [
        "# Model 1"
      ],
      "metadata": {
        "id": "qrJzqgBkamKO"
      }
    },
    {
      "cell_type": "markdown",
      "source": [
        "## Importing files"
      ],
      "metadata": {
        "id": "lynOt408aqws"
      }
    },
    {
      "cell_type": "code",
      "execution_count": 47,
      "metadata": {
        "id": "_hVsdi7Vy1h4"
      },
      "outputs": [],
      "source": [
        "from data_loader import load_data,encode_labels"
      ]
    },
    {
      "cell_type": "code",
      "source": [
        "!pip install fair-esm"
      ],
      "metadata": {
        "id": "yeb11qFAlA7_"
      },
      "execution_count": null,
      "outputs": []
    },
    {
      "cell_type": "code",
      "source": [
        "from esm_embedder import save_embeddings"
      ],
      "metadata": {
        "id": "7fNxSU2skny5"
      },
      "execution_count": 49,
      "outputs": []
    },
    {
      "cell_type": "markdown",
      "source": [
        "## Loading Data"
      ],
      "metadata": {
        "id": "8Cj6B3_gazDm"
      }
    },
    {
      "cell_type": "code",
      "source": [
        "df=load_data(\"/content/raw_sequence_data.csv\")"
      ],
      "metadata": {
        "collapsed": true,
        "id": "ICqmZsXuegTM"
      },
      "execution_count": null,
      "outputs": []
    },
    {
      "cell_type": "code",
      "source": [
        "#save_embeddings(\"/content/raw_sequence_data.csv\", \"cls_embeddings.csv\")"
      ],
      "metadata": {
        "id": "jAW9sb_KezWA"
      },
      "execution_count": 51,
      "outputs": []
    },
    {
      "cell_type": "code",
      "source": [
        "import pandas as pd\n",
        "# Load ESM embeddings (previously extracted)\n",
        "esm_df = pd.read_csv(\"/content/cls_embeddings.csv\")  # must have column 'ID'"
      ],
      "metadata": {
        "collapsed": true,
        "id": "8_GeDAAAe1mF"
      },
      "execution_count": 52,
      "outputs": []
    },
    {
      "cell_type": "markdown",
      "source": [
        "## Encoding multi-hot labels"
      ],
      "metadata": {
        "id": "2CHFTH98a6NY"
      }
    },
    {
      "cell_type": "code",
      "source": [
        "encoded_labels, mlb = encode_labels(df[\"Labels\"])"
      ],
      "metadata": {
        "id": "fYE3kYERUK7x"
      },
      "execution_count": 53,
      "outputs": []
    },
    {
      "cell_type": "code",
      "source": [
        "# Step 2: Convert encoded labels into a DataFrame\n",
        "encoded_labels_df = pd.DataFrame(encoded_labels, columns=mlb.classes_)\n",
        "encoded_labels_df[\"ID\"] = df[\"ID\"].values  # Add ID for merging"
      ],
      "metadata": {
        "id": "dx9upzlOUNJX"
      },
      "execution_count": 54,
      "outputs": []
    },
    {
      "cell_type": "markdown",
      "source": [
        "## Merge sequence embedding and labels in one file"
      ],
      "metadata": {
        "id": "aAyx6yDkbCut"
      }
    },
    {
      "cell_type": "code",
      "source": [
        "# Step 3: Merge ESM embeddings (esm_df) with labels\n",
        "final_df = pd.merge(esm_df, encoded_labels_df, on=\"ID\")"
      ],
      "metadata": {
        "id": "bTRhWuboUQOc"
      },
      "execution_count": 55,
      "outputs": []
    },
    {
      "cell_type": "code",
      "source": [
        "# Move \"ID\" column to the front\n",
        "cols = list(final_df.columns)\n",
        "cols.remove(\"ID\")\n",
        "new_order = [\"ID\"] + cols\n",
        "final_df = final_df[new_order]\n"
      ],
      "metadata": {
        "id": "sPulxk5hZE4d"
      },
      "execution_count": 58,
      "outputs": []
    },
    {
      "cell_type": "code",
      "source": [
        "# Step 4: Save final_df to CSV\n",
        "final_df.to_csv(\"esm_with_multihot_labels.csv\", index=False)\n",
        "print(\"Saved: esm_with_multihot_labels.csv\")"
      ],
      "metadata": {
        "id": "VGM5Rj1vUTur"
      },
      "execution_count": null,
      "outputs": []
    },
    {
      "cell_type": "markdown",
      "source": [
        "## Splitting Column in X(Sequence) and Y(labels)"
      ],
      "metadata": {
        "id": "zednHKrqcWU0"
      }
    },
    {
      "cell_type": "code",
      "source": [
        "# Get all column names\n",
        "all_columns = final_df.columns\n",
        "\n",
        "# GO columns start from index 1281 onwards\n",
        "go_columns = all_columns[1281:]\n",
        "\n",
        "# Now define X and Y\n",
        "X = final_df.drop(columns=[\"ID\"] + list(go_columns))  # Features (1280 ESM cols)\n",
        "Y = final_df[list(go_columns)]                        # Labels (GO terms)\n"
      ],
      "metadata": {
        "id": "o433fazCbbki"
      },
      "execution_count": 63,
      "outputs": []
    },
    {
      "cell_type": "code",
      "source": [
        "X.to_csv(\"X_esm.csv\", index=False)\n",
        "Y.to_csv(\"Y_go.csv\", index=False)"
      ],
      "metadata": {
        "id": "Gxacsb7vbctF"
      },
      "execution_count": 66,
      "outputs": []
    },
    {
      "cell_type": "code",
      "source": [],
      "metadata": {
        "id": "rBVawjIpcGmv"
      },
      "execution_count": null,
      "outputs": []
    }
  ]
}